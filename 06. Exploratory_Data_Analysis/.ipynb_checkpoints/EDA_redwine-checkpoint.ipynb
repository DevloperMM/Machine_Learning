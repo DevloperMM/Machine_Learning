{
 "cells": [
  {
   "cell_type": "markdown",
   "id": "83e4cb8a",
   "metadata": {},
   "source": [
    "## Dataset Information\n",
    "The two datasets are related to red and white variants of the Portuguese \"Vinho Verde\" wine. Due to privacy and logistic issues, only physicochemical (inputs) and sensory (the output) variables are available (e.g. there is no data about grape types, wine brand, wine selling price, etc). The classes are ordered and not balanced (e.g. there are many more normal wines than excellent or poor ones). Outlier detection algorithms could be used to detect the few excellent or poor wines. Also, we are not sure if all input variables are relevant. So it could be interesting to test feature selection methods.\n",
    "## Additional Information\n",
    "Input variables (based on physicochemical tests):\n",
    "- 1. fixed acidity\n",
    "- 2. volatile acidity\n",
    "- 3. citric acid\n",
    "- 4. residual sugar\n",
    "- 5. chlorides\n",
    "- 6. free sulfur dioxide\n",
    "- 7. total sulfur dioxide\n",
    "- 8. density\n",
    "- 9. pH\n",
    "- 10. sulphates\n",
    "- 11. alcohol\n",
    "\n",
    "Output variable (based on sensory data):\n",
    "- 12. Quality (score between 0 and 10)"
   ]
  },
  {
   "cell_type": "code",
   "execution_count": null,
   "id": "cd87e388",
   "metadata": {},
   "outputs": [],
   "source": [
    "import pandas as pd"
   ]
  },
  {
   "cell_type": "code",
   "execution_count": null,
   "id": "4153e139",
   "metadata": {},
   "outputs": [],
   "source": [
    "df = pd.read_csv('redwine.csv')\n",
    "df.head()"
   ]
  },
  {
   "cell_type": "code",
   "execution_count": null,
   "id": "677d7a9a",
   "metadata": {},
   "outputs": [],
   "source": [
    "# Summary of the dataset\n",
    "df.info()"
   ]
  },
  {
   "cell_type": "code",
   "execution_count": null,
   "id": "2a4f3101",
   "metadata": {},
   "outputs": [],
   "source": [
    "# descriptive summary\n",
    "df.describe()"
   ]
  },
  {
   "cell_type": "code",
   "execution_count": null,
   "id": "4d098e75",
   "metadata": {},
   "outputs": [],
   "source": [
    "# Shape of the dataset\n",
    "df.shape"
   ]
  },
  {
   "cell_type": "code",
   "execution_count": null,
   "id": "56a9fadc",
   "metadata": {},
   "outputs": [],
   "source": [
    "df.columns"
   ]
  },
  {
   "cell_type": "code",
   "execution_count": null,
   "id": "40174491",
   "metadata": {},
   "outputs": [],
   "source": [
    "df['quality'].unique()"
   ]
  },
  {
   "cell_type": "code",
   "execution_count": null,
   "id": "ccd3acea",
   "metadata": {},
   "outputs": [],
   "source": [
    "df['quality'].value_counts()\n",
    "# Conclusion - Imbalanced Dataset"
   ]
  },
  {
   "cell_type": "code",
   "execution_count": null,
   "id": "d29a4b3b",
   "metadata": {},
   "outputs": [],
   "source": [
    "df.isnull().sum()\n",
    "# Missing values"
   ]
  },
  {
   "cell_type": "code",
   "execution_count": null,
   "id": "9969f863",
   "metadata": {},
   "outputs": [],
   "source": [
    "# To check the duplicate records\n",
    "df[df.duplicated()]"
   ]
  },
  {
   "cell_type": "code",
   "execution_count": null,
   "id": "8ebfa846",
   "metadata": {},
   "outputs": [],
   "source": [
    "# Removing duplicate records\n",
    "df.drop_duplicates(inplace = True)\n",
    "df.shape"
   ]
  },
  {
   "cell_type": "code",
   "execution_count": null,
   "id": "1b7bd94a",
   "metadata": {},
   "outputs": [],
   "source": [
    "df.corr()"
   ]
  },
  {
   "cell_type": "code",
   "execution_count": null,
   "id": "71ccdd93",
   "metadata": {},
   "outputs": [],
   "source": [
    "import matplotlib.pyplot as plt\n",
    "import seaborn as sns\n",
    "plt.figure(figsize = (10, 6))\n",
    "sns.heatmap(df.corr(), annot = True)"
   ]
  },
  {
   "cell_type": "code",
   "execution_count": null,
   "id": "9c96f013",
   "metadata": {},
   "outputs": [],
   "source": [
    "df.quality.value_counts().plot(kind = 'bar')"
   ]
  },
  {
   "cell_type": "code",
   "execution_count": null,
   "id": "cb2602ee",
   "metadata": {},
   "outputs": [],
   "source": [
    "sns.distplot(df['fixed acidity'])"
   ]
  },
  {
   "cell_type": "code",
   "execution_count": null,
   "id": "3ea1f0d9",
   "metadata": {},
   "outputs": [],
   "source": [
    "sns.histplot(df['fixed acidity'], kde = True)"
   ]
  },
  {
   "cell_type": "code",
   "execution_count": null,
   "id": "0e24506c",
   "metadata": {},
   "outputs": [],
   "source": [
    "for i in df.columns:\n",
    "    sns.histplot(df[i], kde = True)"
   ]
  },
  {
   "cell_type": "code",
   "execution_count": null,
   "id": "14dd3e9c",
   "metadata": {},
   "outputs": [],
   "source": [
    "sns.catplot(x = 'quality', y = 'alcohol', data = df, kind = 'box')"
   ]
  },
  {
   "cell_type": "code",
   "execution_count": null,
   "id": "2f55f3d2",
   "metadata": {},
   "outputs": [],
   "source": [
    "sns.scatterplot(x = 'alcohol', y = 'pH', hue = 'quality', data = df)"
   ]
  },
  {
   "cell_type": "code",
   "execution_count": null,
   "id": "0c45dc96",
   "metadata": {},
   "outputs": [],
   "source": []
  }
 ],
 "metadata": {
  "kernelspec": {
   "display_name": "Python 3 (ipykernel)",
   "language": "python",
   "name": "python3"
  },
  "language_info": {
   "codemirror_mode": {
    "name": "ipython",
    "version": 3
   },
   "file_extension": ".py",
   "mimetype": "text/x-python",
   "name": "python",
   "nbconvert_exporter": "python",
   "pygments_lexer": "ipython3",
   "version": "3.11.5"
  }
 },
 "nbformat": 4,
 "nbformat_minor": 5
}
