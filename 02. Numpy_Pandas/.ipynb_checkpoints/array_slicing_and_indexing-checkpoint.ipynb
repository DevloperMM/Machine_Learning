{
 "cells": [
  {
   "cell_type": "code",
   "execution_count": 1,
   "id": "eb1dd781",
   "metadata": {},
   "outputs": [],
   "source": [
    "import numpy as np"
   ]
  },
  {
   "cell_type": "code",
   "execution_count": 2,
   "id": "e91013bd",
   "metadata": {},
   "outputs": [
    {
     "name": "stdout",
     "output_type": "stream",
     "text": [
      "[1, 2, 3, 4, 5]\n",
      "[1 2 3 4 5]\n"
     ]
    }
   ],
   "source": [
    "l = [1, 2, 3, 4, 5]\n",
    "arr = np.array(l)\n",
    "\n",
    "print(l)\n",
    "print(arr)"
   ]
  },
  {
   "cell_type": "code",
   "execution_count": 3,
   "id": "21729676",
   "metadata": {},
   "outputs": [
    {
     "name": "stdout",
     "output_type": "stream",
     "text": [
      "<memory at 0x000002436B2FF940>\n",
      "(5,)\n",
      "int32\n",
      "(4,)\n"
     ]
    }
   ],
   "source": [
    "print(arr.data)\n",
    "print(arr.shape)\n",
    "print(arr.dtype) # int32 refers it can store -2^31 to 2^31\n",
    "print(arr.strides)"
   ]
  },
  {
   "cell_type": "code",
   "execution_count": 4,
   "id": "dbe0db91",
   "metadata": {},
   "outputs": [
    {
     "name": "stdout",
     "output_type": "stream",
     "text": [
      "[1, 2, 3]\n",
      "[1 2 3]\n",
      "[2, 3, 4]\n",
      "[2 3 4]\n"
     ]
    }
   ],
   "source": [
    "# Slicing of 1_D list\n",
    "\n",
    "print(l[:3])\n",
    "print(arr[:3])\n",
    "print(l[1:4])\n",
    "print(arr[1:4])"
   ]
  },
  {
   "cell_type": "code",
   "execution_count": 5,
   "id": "f06af1da",
   "metadata": {},
   "outputs": [
    {
     "name": "stdout",
     "output_type": "stream",
     "text": [
      "[[1, 2, 3, 4], [5, 6, 7, 8], [9, 10, 11, 12], [13, 14, 15, 16]]\n",
      "[[ 1  2  3  4]\n",
      " [ 5  6  7  8]\n",
      " [ 9 10 11 12]\n",
      " [13 14 15 16]]\n"
     ]
    }
   ],
   "source": [
    "l_2D = [[(4 * i) + j for j in range(1, 5)] for i in range(4)]\n",
    "arr_2D = np.array(l_2D)\n",
    "\n",
    "print(l_2D)\n",
    "print(arr_2D)"
   ]
  },
  {
   "cell_type": "code",
   "execution_count": 6,
   "id": "69c67b26",
   "metadata": {},
   "outputs": [
    {
     "name": "stdout",
     "output_type": "stream",
     "text": [
      "<memory at 0x000002436B929970>\n",
      "(4, 4)\n",
      "int32\n",
      "(16, 4)\n"
     ]
    }
   ],
   "source": [
    "print(arr_2D.data)\n",
    "print(arr_2D.shape)\n",
    "print(arr_2D.dtype) # int32 refers it can store -2^31 to 2^31\n",
    "print(arr_2D.strides) # its output means 16 byte if skip a row and 4 byte for element "
   ]
  },
  {
   "cell_type": "code",
   "execution_count": 7,
   "id": "706f51ed",
   "metadata": {},
   "outputs": [
    {
     "name": "stdout",
     "output_type": "stream",
     "text": [
      "10\n",
      "10\n",
      "10\n"
     ]
    }
   ],
   "source": [
    "# Indexing 2_D list\n",
    "\n",
    "print(l_2D[2][1])\n",
    "print(arr_2D[2][1])\n",
    "print(arr_2D[2, 1])"
   ]
  },
  {
   "cell_type": "code",
   "execution_count": 8,
   "id": "e60bab19",
   "metadata": {},
   "outputs": [
    {
     "name": "stdout",
     "output_type": "stream",
     "text": [
      "[5, 6, 7]\n",
      "[5 6 7]\n"
     ]
    }
   ],
   "source": [
    "# Slicing 2_D list\n",
    "\n",
    "print(l_2D[1][:3])\n",
    "print(arr_2D[1, :3])"
   ]
  },
  {
   "cell_type": "code",
   "execution_count": 9,
   "id": "99c718d3",
   "metadata": {},
   "outputs": [
    {
     "name": "stdout",
     "output_type": "stream",
     "text": [
      "[9, 10, 11, 12]\n",
      "[[1, 2, 3, 4], [5, 6, 7, 8], [9, 10, 11, 12]]\n",
      "[ 3  7 11]\n",
      "[[10 11]\n",
      " [14 15]]\n"
     ]
    }
   ],
   "source": [
    "# Why to prefer numpy over list in terms of slicing\n",
    "\n",
    "print(l_2D[:3][2])\n",
    "x = l_2D[:3]\n",
    "print(x)\n",
    "\n",
    "print(arr_2D[:3, 2])\n",
    "print(arr_2D[2:4, 1:3])"
   ]
  },
  {
   "cell_type": "code",
   "execution_count": null,
   "id": "b9dc67c3",
   "metadata": {},
   "outputs": [],
   "source": []
  }
 ],
 "metadata": {
  "kernelspec": {
   "display_name": "Python 3 (ipykernel)",
   "language": "python",
   "name": "python3"
  },
  "language_info": {
   "codemirror_mode": {
    "name": "ipython",
    "version": 3
   },
   "file_extension": ".py",
   "mimetype": "text/x-python",
   "name": "python",
   "nbconvert_exporter": "python",
   "pygments_lexer": "ipython3",
   "version": "3.11.5"
  }
 },
 "nbformat": 4,
 "nbformat_minor": 5
}
