{
 "cells": [
  {
   "cell_type": "code",
   "execution_count": 2,
   "id": "7f341b3e",
   "metadata": {},
   "outputs": [],
   "source": [
    "import numpy as np"
   ]
  },
  {
   "cell_type": "code",
   "execution_count": 3,
   "id": "85ecf808",
   "metadata": {},
   "outputs": [
    {
     "name": "stdout",
     "output_type": "stream",
     "text": [
      "[1, 2, 3, 4, 5]\n",
      "[15  8 13  5  1]\n",
      "[ 3  3 16 18  8]\n"
     ]
    }
   ],
   "source": [
    "l = [1, 2, 3, 4, 5]\n",
    "a = np.random.randint(1, 20, 5)\n",
    "b = np.random.randint(1, 20, 5)\n",
    "\n",
    "print(l)\n",
    "print(a)\n",
    "print(b)"
   ]
  },
  {
   "cell_type": "code",
   "execution_count": 4,
   "id": "7bc71423",
   "metadata": {},
   "outputs": [
    {
     "data": {
      "text/plain": [
       "[2, 3, 4, 5, 6]"
      ]
     },
     "execution_count": 4,
     "metadata": {},
     "output_type": "execute_result"
    }
   ],
   "source": [
    "# iteration is needed to perform operations on the elements of list\n",
    "\n",
    "l = [i + 1 for i in l]\n",
    "l"
   ]
  },
  {
   "cell_type": "code",
   "execution_count": 5,
   "id": "7489a49e",
   "metadata": {},
   "outputs": [
    {
     "name": "stdout",
     "output_type": "stream",
     "text": [
      "[16  9 14  6  2]\n",
      "[      4096        729 2105606144 1159987200        256]\n"
     ]
    }
   ],
   "source": [
    "# any operation can be done directly on individual or multiple arrays\n",
    "\n",
    "a = a + 1\n",
    "print(a)\n",
    "\n",
    "g = a ** b\n",
    "print(g)"
   ]
  },
  {
   "cell_type": "code",
   "execution_count": 6,
   "id": "9eed45a4",
   "metadata": {},
   "outputs": [
    {
     "name": "stdout",
     "output_type": "stream",
     "text": [
      "[16  9 14  6  2]\n",
      "47\n",
      "9.4\n",
      "2\n",
      "4\n",
      "16\n",
      "0\n"
     ]
    }
   ],
   "source": [
    "print(a)\n",
    "print(a.sum())\n",
    "print(a.mean())\n",
    "print(a.min())\n",
    "print(a.argmin())\n",
    "print(a.max())\n",
    "print(a.argmax())"
   ]
  },
  {
   "cell_type": "code",
   "execution_count": 7,
   "id": "0ae72a5b",
   "metadata": {},
   "outputs": [
    {
     "name": "stdout",
     "output_type": "stream",
     "text": [
      "[16  9  0  0  2]\n",
      "[ 3  3 16 18  8]\n"
     ]
    }
   ],
   "source": [
    "a[2] = 0\n",
    "a[3] = 0\n",
    "print(a)\n",
    "print(b)"
   ]
  },
  {
   "cell_type": "code",
   "execution_count": 8,
   "id": "5e5a7c8d",
   "metadata": {},
   "outputs": [
    {
     "data": {
      "text/plain": [
       "array([False, False,  True,  True,  True])"
      ]
     },
     "execution_count": 8,
     "metadata": {},
     "output_type": "execute_result"
    }
   ],
   "source": [
    "a < b"
   ]
  },
  {
   "cell_type": "code",
   "execution_count": 5,
   "id": "49ce7035",
   "metadata": {},
   "outputs": [
    {
     "name": "stdout",
     "output_type": "stream",
     "text": [
      "[[1 2 3]\n",
      " [4 5 6]\n",
      " [7 8 9]]\n",
      "\n",
      "[[1 2 3]\n",
      " [4 5 6]\n",
      " [7 8 9]]\n",
      "\n",
      "[[ 30  36  42]\n",
      " [ 66  81  96]\n",
      " [102 126 150]]\n"
     ]
    }
   ],
   "source": [
    "# mathematical operations on a 2D list\n",
    "\n",
    "l1_2d = [[(3 * i) + j for j in range(1, 4)] for i in range(3)]\n",
    "arr1_2d = np.array(l1_2d)\n",
    "\n",
    "l2_2d = [[(3 * i) + j for j in range(1, 4)] for i in range(3)]\n",
    "arr2_2d = np.array(l2_2d)\n",
    "\n",
    "print(arr2_2d)\n",
    "print()\n",
    "print(arr1_2d)\n",
    "print()\n",
    "\n",
    "print(arr1_2d @ arr2_2d) # Matrix Multiplication"
   ]
  }
 ],
 "metadata": {
  "kernelspec": {
   "display_name": "Python 3 (ipykernel)",
   "language": "python",
   "name": "python3"
  },
  "language_info": {
   "codemirror_mode": {
    "name": "ipython",
    "version": 3
   },
   "file_extension": ".py",
   "mimetype": "text/x-python",
   "name": "python",
   "nbconvert_exporter": "python",
   "pygments_lexer": "ipython3",
   "version": "3.11.5"
  }
 },
 "nbformat": 4,
 "nbformat_minor": 5
}
