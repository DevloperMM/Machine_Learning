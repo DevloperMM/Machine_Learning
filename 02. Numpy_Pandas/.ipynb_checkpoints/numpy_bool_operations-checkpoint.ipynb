{
 "cells": [
  {
   "cell_type": "code",
   "execution_count": 2,
   "id": "5ccb23dc",
   "metadata": {},
   "outputs": [],
   "source": [
    "import numpy as np"
   ]
  },
  {
   "cell_type": "code",
   "execution_count": 3,
   "id": "85450f9b",
   "metadata": {},
   "outputs": [
    {
     "name": "stdout",
     "output_type": "stream",
     "text": [
      "['a' 'b' 'c' 'd' 'e' 'f' 'g' 'h']\n",
      "[ 1  8 16 11 10  6 13 10]\n"
     ]
    }
   ],
   "source": [
    "a = np.array(['a', 'b', 'c', 'd', 'e', 'f', 'g', 'h'])\n",
    "b = np.random.randint(1, 20, 8)\n",
    "\n",
    "print(a)\n",
    "print(b)"
   ]
  },
  {
   "cell_type": "code",
   "execution_count": 3,
   "id": "433f309e",
   "metadata": {},
   "outputs": [
    {
     "name": "stdout",
     "output_type": "stream",
     "text": [
      "<class 'numpy.ndarray'>\n",
      "[ True  True  True  True  True  True False  True]\n",
      "[17 12 19 12 17 14 15]\n"
     ]
    }
   ],
   "source": [
    "# Boolean operation on 1D lists\n",
    "# bool is working as index (here only) where we got True as result\n",
    "\n",
    "bool = b > 10\n",
    "print(type(bool))\n",
    "print(bool)\n",
    "new = b[bool]\n",
    "print(new)"
   ]
  },
  {
   "cell_type": "code",
   "execution_count": 4,
   "id": "fc8d7875",
   "metadata": {},
   "outputs": [
    {
     "data": {
      "text/plain": [
       "array([12, 12, 14])"
      ]
     },
     "execution_count": 4,
     "metadata": {},
     "output_type": "execute_result"
    }
   ],
   "source": [
    "new = b[(b > 10) & (b < 15)]\n",
    "new"
   ]
  },
  {
   "cell_type": "code",
   "execution_count": 5,
   "id": "7273eb9a",
   "metadata": {},
   "outputs": [
    {
     "name": "stdout",
     "output_type": "stream",
     "text": [
      "[17 12 19 12 17 14  9 15]\n"
     ]
    }
   ],
   "source": [
    "print(b)"
   ]
  },
  {
   "cell_type": "code",
   "execution_count": 6,
   "id": "0f8897ae",
   "metadata": {},
   "outputs": [
    {
     "name": "stdout",
     "output_type": "stream",
     "text": [
      "[56 12 56 12 56 56  9 56]\n"
     ]
    }
   ],
   "source": [
    "d = b\n",
    "d[d > 12]  = 56\n",
    "print(d)"
   ]
  },
  {
   "cell_type": "code",
   "execution_count": 7,
   "id": "1c26e2e7",
   "metadata": {},
   "outputs": [
    {
     "name": "stdout",
     "output_type": "stream",
     "text": [
      "(array([0, 2, 4, 5, 7], dtype=int64),)\n"
     ]
    }
   ],
   "source": [
    "print(np.where(d == 56))"
   ]
  },
  {
   "cell_type": "code",
   "execution_count": 8,
   "id": "29929801",
   "metadata": {},
   "outputs": [
    {
     "name": "stdout",
     "output_type": "stream",
     "text": [
      "(array([], dtype=int64),)\n",
      "[]\n"
     ]
    }
   ],
   "source": [
    "# Q | to print the element of a of index where b has value 56\n",
    "\n",
    "ind = np.where(d == 11)\n",
    "print(ind)\n",
    "print(a[ind])"
   ]
  },
  {
   "cell_type": "code",
   "execution_count": 9,
   "id": "ef6a30df",
   "metadata": {},
   "outputs": [
    {
     "data": {
      "text/plain": [
       "array([[ 7, 27,  2, 12, 23,  5],\n",
       "       [ 9,  9,  3, 19, 10, 13],\n",
       "       [19, 18, 14,  9, 12, 18],\n",
       "       [22, 22, 19, 22, 11,  1],\n",
       "       [15, 15,  5, 13, 10, 13]])"
      ]
     },
     "execution_count": 9,
     "metadata": {},
     "output_type": "execute_result"
    }
   ],
   "source": [
    "# Boolean operation on 2D lists\n",
    "\n",
    "a = np.random.randint(1, 30, (5, 6))\n",
    "a"
   ]
  },
  {
   "cell_type": "code",
   "execution_count": 10,
   "id": "3fd45981",
   "metadata": {},
   "outputs": [
    {
     "name": "stdout",
     "output_type": "stream",
     "text": [
      "[[False  True False False  True False]\n",
      " [False False False False False False]\n",
      " [False False False False False False]\n",
      " [ True  True False  True False False]\n",
      " [False False False False False False]]\n"
     ]
    }
   ],
   "source": [
    "bool = a > 20\n",
    "print(bool)"
   ]
  },
  {
   "cell_type": "code",
   "execution_count": 11,
   "id": "c3c33e77",
   "metadata": {},
   "outputs": [
    {
     "data": {
      "text/plain": [
       "array([27, 23, 22, 22, 22])"
      ]
     },
     "execution_count": 11,
     "metadata": {},
     "output_type": "execute_result"
    }
   ],
   "source": [
    "ans = a[bool]\n",
    "ans"
   ]
  },
  {
   "cell_type": "code",
   "execution_count": 12,
   "id": "f8606b00",
   "metadata": {},
   "outputs": [
    {
     "data": {
      "text/plain": [
       "array([[ 7, 27,  2, 12, 23,  5],\n",
       "       [ 9,  9,  3, 19, 10, 13],\n",
       "       [19, 18, 14,  9, 12, 18],\n",
       "       [22, 22, 19, 22, 11,  1],\n",
       "       [15, 15,  5, 13, 10, 13]])"
      ]
     },
     "execution_count": 12,
     "metadata": {},
     "output_type": "execute_result"
    }
   ],
   "source": [
    "b = a\n",
    "b"
   ]
  },
  {
   "cell_type": "code",
   "execution_count": 13,
   "id": "27bf5279",
   "metadata": {},
   "outputs": [
    {
     "data": {
      "text/plain": [
       "array([[  7, 100,   2,  12, 100,   5],\n",
       "       [  9,   9,   3,  19,  10,  13],\n",
       "       [ 19,  18,  14,   9,  12,  18],\n",
       "       [100, 100,  19, 100,  11,   1],\n",
       "       [ 15,  15,   5,  13,  10,  13]])"
      ]
     },
     "execution_count": 13,
     "metadata": {},
     "output_type": "execute_result"
    }
   ],
   "source": [
    "b[bool] = 100\n",
    "b"
   ]
  },
  {
   "cell_type": "code",
   "execution_count": 14,
   "id": "4fc96466",
   "metadata": {},
   "outputs": [
    {
     "data": {
      "text/plain": [
       "array([[2, 9],\n",
       "       [8, 5]])"
      ]
     },
     "execution_count": 14,
     "metadata": {},
     "output_type": "execute_result"
    }
   ],
   "source": [
    "c = np.random.randint(1, 10, (2, 2))\n",
    "c"
   ]
  },
  {
   "cell_type": "code",
   "execution_count": 15,
   "id": "eb83d132",
   "metadata": {},
   "outputs": [
    {
     "name": "stdout",
     "output_type": "stream",
     "text": [
      "[[ True False]\n",
      " [False  True]\n",
      " [ True  True]]\n"
     ]
    }
   ],
   "source": [
    "c_bool = np.array([[True, False], [False, True], [True, True]])\n",
    "print(c_bool)"
   ]
  },
  {
   "cell_type": "code",
   "execution_count": 16,
   "id": "25fc6972",
   "metadata": {},
   "outputs": [],
   "source": [
    "# in case of boolean arrays they must be of same shape as of original array from which we want to extract data\n",
    "\n",
    "# print(c[c_bool])"
   ]
  },
  {
   "cell_type": "code",
   "execution_count": 17,
   "id": "3c5035b2",
   "metadata": {},
   "outputs": [
    {
     "name": "stdout",
     "output_type": "stream",
     "text": [
      "[[  7 100   2  12 100   5]\n",
      " [  9   9   3  19  10  13]\n",
      " [ 19  18  14   9  12  18]\n",
      " [100 100  19 100  11   1]\n",
      " [ 15  15   5  13  10  13]]\n"
     ]
    }
   ],
   "source": [
    "print(b)"
   ]
  },
  {
   "cell_type": "code",
   "execution_count": 18,
   "id": "c41a37b9",
   "metadata": {},
   "outputs": [
    {
     "data": {
      "text/plain": [
       "array([False, False, False, False, False])"
      ]
     },
     "execution_count": 18,
     "metadata": {},
     "output_type": "execute_result"
    }
   ],
   "source": [
    "bool_arr = b[:, 2] == 100\n",
    "bool_arr"
   ]
  },
  {
   "cell_type": "code",
   "execution_count": 19,
   "id": "765659bb",
   "metadata": {},
   "outputs": [
    {
     "data": {
      "text/plain": [
       "array([[  7, 100,   2,  12, 100,   5],\n",
       "       [  9,   9,   3,  19,  10,  13],\n",
       "       [ 19,  18,  14,   9,  12,  18],\n",
       "       [100, 100,  19, 100,  11,   1],\n",
       "       [ 15,  15,   5,  13,  10,  13]])"
      ]
     },
     "execution_count": 19,
     "metadata": {},
     "output_type": "execute_result"
    }
   ],
   "source": [
    "b[bool_arr, 2] = 101\n",
    "\n",
    "# bool_arr implies the row on which I have to work\n",
    "# 2 represents the column on which I have to work\n",
    "\n",
    "b"
   ]
  },
  {
   "cell_type": "code",
   "execution_count": 22,
   "id": "e043a894",
   "metadata": {},
   "outputs": [],
   "source": [
    "# Logical Operations"
   ]
  },
  {
   "cell_type": "code",
   "execution_count": 45,
   "id": "19239875",
   "metadata": {},
   "outputs": [],
   "source": [
    "import numpy as np"
   ]
  },
  {
   "cell_type": "code",
   "execution_count": 46,
   "id": "490f7c01",
   "metadata": {},
   "outputs": [],
   "source": [
    "a1 = np.random.randint(1, 20, 5)\n",
    "a2 = np.random.randint(1, 20, 5)"
   ]
  },
  {
   "cell_type": "code",
   "execution_count": 47,
   "id": "7d88c63b",
   "metadata": {},
   "outputs": [
    {
     "data": {
      "text/plain": [
       "array([ 8,  3, 16, 14,  9])"
      ]
     },
     "execution_count": 47,
     "metadata": {},
     "output_type": "execute_result"
    }
   ],
   "source": [
    "a1"
   ]
  },
  {
   "cell_type": "code",
   "execution_count": 48,
   "id": "19bf7cc7",
   "metadata": {},
   "outputs": [
    {
     "data": {
      "text/plain": [
       "array([13,  9, 15, 13,  4])"
      ]
     },
     "execution_count": 48,
     "metadata": {},
     "output_type": "execute_result"
    }
   ],
   "source": [
    "a2"
   ]
  },
  {
   "cell_type": "code",
   "execution_count": 49,
   "id": "5f0c28ae",
   "metadata": {},
   "outputs": [
    {
     "data": {
      "text/plain": [
       "array([ True,  True,  True,  True,  True])"
      ]
     },
     "execution_count": 49,
     "metadata": {},
     "output_type": "execute_result"
    }
   ],
   "source": [
    "np.logical_or(a1, a2)"
   ]
  },
  {
   "cell_type": "code",
   "execution_count": 50,
   "id": "e3b0c6fa",
   "metadata": {},
   "outputs": [
    {
     "data": {
      "text/plain": [
       "array([ True,  True,  True,  True,  True])"
      ]
     },
     "execution_count": 50,
     "metadata": {},
     "output_type": "execute_result"
    }
   ],
   "source": [
    "np.logical_and(a1, a2)"
   ]
  },
  {
   "cell_type": "code",
   "execution_count": 51,
   "id": "9fe1361a",
   "metadata": {},
   "outputs": [
    {
     "data": {
      "text/plain": [
       "array([False, False, False, False, False])"
      ]
     },
     "execution_count": 51,
     "metadata": {},
     "output_type": "execute_result"
    }
   ],
   "source": [
    "np.logical_not(a1)"
   ]
  },
  {
   "cell_type": "code",
   "execution_count": 52,
   "id": "31d17895",
   "metadata": {},
   "outputs": [
    {
     "data": {
      "text/plain": [
       "array([ 8,  1,  0, 12,  0])"
      ]
     },
     "execution_count": 52,
     "metadata": {},
     "output_type": "execute_result"
    }
   ],
   "source": [
    "a1 & a2"
   ]
  },
  {
   "cell_type": "code",
   "execution_count": 53,
   "id": "d5708353",
   "metadata": {},
   "outputs": [
    {
     "data": {
      "text/plain": [
       "array([13, 11, 31, 15, 13])"
      ]
     },
     "execution_count": 53,
     "metadata": {},
     "output_type": "execute_result"
    }
   ],
   "source": [
    "a1 | a2"
   ]
  },
  {
   "cell_type": "code",
   "execution_count": 54,
   "id": "1617e4e5",
   "metadata": {},
   "outputs": [
    {
     "data": {
      "text/plain": [
       "array([ -9,  -4, -17, -15, -10])"
      ]
     },
     "execution_count": 54,
     "metadata": {},
     "output_type": "execute_result"
    }
   ],
   "source": [
    "~ a1"
   ]
  }
 ],
 "metadata": {
  "kernelspec": {
   "display_name": "Python 3 (ipykernel)",
   "language": "python",
   "name": "python3"
  },
  "language_info": {
   "codemirror_mode": {
    "name": "ipython",
    "version": 3
   },
   "file_extension": ".py",
   "mimetype": "text/x-python",
   "name": "python",
   "nbconvert_exporter": "python",
   "pygments_lexer": "ipython3",
   "version": "3.11.5"
  }
 },
 "nbformat": 4,
 "nbformat_minor": 5
}
