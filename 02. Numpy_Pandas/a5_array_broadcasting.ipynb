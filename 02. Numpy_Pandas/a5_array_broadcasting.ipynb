{
 "cells": [
  {
   "cell_type": "code",
   "execution_count": 1,
   "id": "49d289dc",
   "metadata": {},
   "outputs": [],
   "source": [
    "import numpy as np"
   ]
  },
  {
   "cell_type": "code",
   "execution_count": 2,
   "id": "5204c9c7",
   "metadata": {},
   "outputs": [
    {
     "name": "stdout",
     "output_type": "stream",
     "text": [
      "[[7 4 4]\n",
      " [3 8 1]\n",
      " [6 7 3]]\n",
      "[4 7 2]\n"
     ]
    }
   ],
   "source": [
    "# mathematical operations are compatiable when m*n is same or one of m*n (m or n) is same\n",
    "\n",
    "a = np.random.randint(1, 10, (3, 3))\n",
    "b = np.random.randint(1, 10, (3))\n",
    "\n",
    "print(a)\n",
    "print(b)"
   ]
  },
  {
   "cell_type": "code",
   "execution_count": 3,
   "id": "2d29da85",
   "metadata": {},
   "outputs": [
    {
     "name": "stdout",
     "output_type": "stream",
     "text": [
      "[[ 3 -3  2]\n",
      " [-1  1 -1]\n",
      " [ 2  0  1]]\n"
     ]
    }
   ],
   "source": [
    "print(a - b)"
   ]
  },
  {
   "cell_type": "code",
   "execution_count": 4,
   "id": "f12abf02",
   "metadata": {},
   "outputs": [
    {
     "name": "stdout",
     "output_type": "stream",
     "text": [
      "[[6 2]\n",
      " [6 6]\n",
      " [6 6]]\n",
      "[[8 2 2]\n",
      " [9 8 1]]\n"
     ]
    }
   ],
   "source": [
    "a = np.random.randint(1, 10, (3, 2))\n",
    "b = np.random.randint(1, 10, (2, 3))\n",
    "\n",
    "print(a)\n",
    "print(b)"
   ]
  },
  {
   "cell_type": "code",
   "execution_count": 5,
   "id": "baa9fdd7",
   "metadata": {},
   "outputs": [
    {
     "name": "stdout",
     "output_type": "stream",
     "text": [
      "[[8 9]\n",
      " [2 8]\n",
      " [2 1]]\n",
      "[[-2 -7]\n",
      " [ 4 -2]\n",
      " [ 4  5]]\n"
     ]
    }
   ],
   "source": [
    "b = np.transpose(b)\n",
    "print(b)\n",
    "ans = a - b\n",
    "print(ans)"
   ]
  },
  {
   "cell_type": "code",
   "execution_count": 6,
   "id": "711ab95f",
   "metadata": {},
   "outputs": [],
   "source": [
    "# investigate resize and reshape functions"
   ]
  },
  {
   "cell_type": "code",
   "execution_count": 7,
   "id": "b5eea499",
   "metadata": {},
   "outputs": [
    {
     "name": "stdout",
     "output_type": "stream",
     "text": [
      "[[1 8 8]\n",
      " [8 2 6]\n",
      " [3 7 4]\n",
      " [4 6 5]]\n",
      "[[2 5 8 2 7]\n",
      " [3 3 4 4 9]\n",
      " [4 9 4 3 5]]\n"
     ]
    }
   ],
   "source": [
    "a = np.random.randint(1, 10, (4, 3))\n",
    "b = np.random.randint(1, 10, (3, 5))\n",
    "\n",
    "print(a)\n",
    "print(b)"
   ]
  },
  {
   "cell_type": "code",
   "execution_count": 8,
   "id": "28c8dba6",
   "metadata": {},
   "outputs": [
    {
     "data": {
      "text/plain": [
       "array([[2, 5],\n",
       "       [8, 2],\n",
       "       [7, 3],\n",
       "       [3, 4],\n",
       "       [4, 9],\n",
       "       [4, 9]])"
      ]
     },
     "execution_count": 8,
     "metadata": {},
     "output_type": "execute_result"
    }
   ],
   "source": [
    "d = np.resize(b, (6, 2))\n",
    "d\n",
    "# resize can convert into any order irrespective of no. of elements"
   ]
  },
  {
   "cell_type": "code",
   "execution_count": 9,
   "id": "0cb9d91d",
   "metadata": {},
   "outputs": [
    {
     "data": {
      "text/plain": [
       "array([[1, 8],\n",
       "       [8, 8],\n",
       "       [2, 6],\n",
       "       [3, 7],\n",
       "       [4, 4],\n",
       "       [6, 5]])"
      ]
     },
     "execution_count": 9,
     "metadata": {},
     "output_type": "execute_result"
    }
   ],
   "source": [
    "new = np.reshape(a, (6, 2))\n",
    "new\n",
    "# reshape can only be done in such a way so that the no. of elements doesn't change"
   ]
  },
  {
   "cell_type": "code",
   "execution_count": null,
   "id": "14d4a70d",
   "metadata": {},
   "outputs": [],
   "source": []
  }
 ],
 "metadata": {
  "kernelspec": {
   "display_name": "Python 3 (ipykernel)",
   "language": "python",
   "name": "python3"
  },
  "language_info": {
   "codemirror_mode": {
    "name": "ipython",
    "version": 3
   },
   "file_extension": ".py",
   "mimetype": "text/x-python",
   "name": "python",
   "nbconvert_exporter": "python",
   "pygments_lexer": "ipython3",
   "version": "3.11.5"
  }
 },
 "nbformat": 4,
 "nbformat_minor": 5
}
