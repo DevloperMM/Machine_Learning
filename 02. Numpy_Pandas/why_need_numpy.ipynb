{
 "cells": [
  {
   "cell_type": "code",
   "execution_count": 3,
   "id": "ae7d0e93-d3aa-46e2-bfdb-8d8dd2244b31",
   "metadata": {},
   "outputs": [
    {
     "name": "stdout",
     "output_type": "stream",
     "text": [
      "[0, 1, 2, 3, 4, 5, 6, 7, 8, 9, 10, 11, 12, 13, 14, 15, 16, 17, 18, 19, 20, 21, 22, 23, 24, 25, 26, 27, 28, 29, 30, 31, 32, 33, 34, 35, 36, 37, 38, 39, 40, 41, 42, 43, 44, 45, 46, 47, 48, 49, 50, 51, 52, 53, 54, 55, 56, 57, 58, 59, 60, 61, 62, 63, 64, 65, 66, 67, 68, 69, 70, 71, 72, 73, 74, 75, 76, 77, 78, 79, 80, 81, 82, 83, 84, 85, 86, 87, 88, 89, 90, 91, 92, 93, 94, 95, 96, 97, 98, 99]\n",
      "[ 0  1  2  3  4  5  6  7  8  9 10 11 12 13 14 15 16 17 18 19 20 21 22 23\n",
      " 24 25 26 27 28 29 30 31 32 33 34 35 36 37 38 39 40 41 42 43 44 45 46 47\n",
      " 48 49 50 51 52 53 54 55 56 57 58 59 60 61 62 63 64 65 66 67 68 69 70 71\n",
      " 72 73 74 75 76 77 78 79 80 81 82 83 84 85 86 87 88 89 90 91 92 93 94 95\n",
      " 96 97 98 99]\n"
     ]
    }
   ],
   "source": [
    "import numpy as np\n",
    "list = [i for i in range(100)]\n",
    "array = np.arange(100)\n",
    "\n",
    "print(list)\n",
    "print(array)"
   ]
  },
  {
   "cell_type": "code",
   "execution_count": 4,
   "id": "1514cf52-0a62-4b28-a79c-92adee067e7b",
   "metadata": {},
   "outputs": [
    {
     "name": "stdout",
     "output_type": "stream",
     "text": [
      "4\n",
      "400\n"
     ]
    }
   ],
   "source": [
    "# size of one element in numpy array\n",
    "print(array.itemsize)\n",
    "\n",
    "# size of 100 elements in numpy array\n",
    "print(array.itemsize * array.size)"
   ]
  },
  {
   "cell_type": "code",
   "execution_count": 5,
   "id": "18d7fcf8-2edb-48bb-8bb3-a243fe856a3e",
   "metadata": {},
   "outputs": [
    {
     "name": "stdout",
     "output_type": "stream",
     "text": [
      "28\n",
      "2800\n"
     ]
    }
   ],
   "source": [
    "import sys\n",
    "\n",
    "# size of one element in list\n",
    "a = list[50]\n",
    "print(sys.getsizeof(a))\n",
    "\n",
    "# size of 100 elements in list\n",
    "print(sys.getsizeof(list[50]) * len(list))"
   ]
  },
  {
   "cell_type": "code",
   "execution_count": 6,
   "id": "b7c78026",
   "metadata": {},
   "outputs": [],
   "source": [
    "# Numpy is less complex in terms of space or memory variable"
   ]
  },
  {
   "cell_type": "code",
   "execution_count": 9,
   "id": "c31e2179-e60e-49b5-a7e6-e57e8b006735",
   "metadata": {},
   "outputs": [
    {
     "name": "stdout",
     "output_type": "stream",
     "text": [
      "List =  0.5082669258117676\n",
      "Numpy =  0.004601716995239258\n"
     ]
    }
   ],
   "source": [
    "import time\n",
    "import numpy as np\n",
    "\n",
    "size = 1000000\n",
    "\n",
    "# add elements of array a and b\n",
    "\n",
    "def add_using_list():\n",
    "    t1 = time.time()\n",
    "    a = range(size)\n",
    "    b = range(size)\n",
    "    c = [a[i] * b[i] for i in range(size)]\n",
    "    t2 = time.time()\n",
    "    return (t2 - t1)\n",
    "\n",
    "def add_using_numpy():\n",
    "    t1 = time.time()\n",
    "    a = np.arange(size)\n",
    "    b = np.arange(size)\n",
    "    c = a * b\n",
    "    t2 = time.time()\n",
    "    return (t2 - t1)\n",
    "\n",
    "t_list = add_using_list()\n",
    "t_numpy = add_using_numpy()\n",
    "print('List = ', t_list)\n",
    "print('Numpy = ', t_numpy)"
   ]
  },
  {
   "cell_type": "code",
   "execution_count": 10,
   "id": "6eb053ae",
   "metadata": {},
   "outputs": [],
   "source": [
    "# Numpy is less complex in terms of time variable"
   ]
  },
  {
   "cell_type": "code",
   "execution_count": 14,
   "id": "7d651984",
   "metadata": {},
   "outputs": [
    {
     "name": "stdout",
     "output_type": "stream",
     "text": [
      "[ 0  1  8 27 64]\n",
      "[ 0  3  6  9 12]\n"
     ]
    }
   ],
   "source": [
    "a = np.arange(5)\n",
    "b = np.arange(5)\n",
    "e = np.arange(5)\n",
    "\n",
    "c = a + b + e\n",
    "d = a * b * e\n",
    "\n",
    "print(d)\n",
    "print(c)"
   ]
  },
  {
   "cell_type": "code",
   "execution_count": 26,
   "id": "a77a0c9d",
   "metadata": {},
   "outputs": [],
   "source": [
    "# Numpy can have vectorization whose example is the above code"
   ]
  },
  {
   "cell_type": "code",
   "execution_count": null,
   "id": "1730432b",
   "metadata": {},
   "outputs": [],
   "source": []
  }
 ],
 "metadata": {
  "kernelspec": {
   "display_name": "Python 3 (ipykernel)",
   "language": "python",
   "name": "python3"
  },
  "language_info": {
   "codemirror_mode": {
    "name": "ipython",
    "version": 3
   },
   "file_extension": ".py",
   "mimetype": "text/x-python",
   "name": "python",
   "nbconvert_exporter": "python",
   "pygments_lexer": "ipython3",
   "version": "3.11.5"
  }
 },
 "nbformat": 4,
 "nbformat_minor": 5
}
