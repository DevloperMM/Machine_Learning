{
 "cells": [
  {
   "cell_type": "code",
   "execution_count": 1,
   "id": "a7575365",
   "metadata": {},
   "outputs": [],
   "source": [
    "import numpy as np"
   ]
  },
  {
   "cell_type": "code",
   "execution_count": 2,
   "id": "14b41cb1",
   "metadata": {},
   "outputs": [],
   "source": [
    "data = np.loadtxt('collected_data.csv', delimiter = ',')"
   ]
  },
  {
   "cell_type": "code",
   "execution_count": null,
   "id": "5f2d5467",
   "metadata": {},
   "outputs": [],
   "source": [
    "data = np.arange"
   ]
  },
  {
   "cell_type": "code",
   "execution_count": 3,
   "id": "ab1105a7",
   "metadata": {},
   "outputs": [],
   "source": [
    "x = data[:, 0]\n",
    "y = data[:, 1]"
   ]
  },
  {
   "cell_type": "code",
   "execution_count": 4,
   "id": "3cd5359e",
   "metadata": {},
   "outputs": [
    {
     "data": {
      "text/plain": [
       "(100,)"
      ]
     },
     "execution_count": 4,
     "metadata": {},
     "output_type": "execute_result"
    }
   ],
   "source": [
    "x.shape"
   ]
  },
  {
   "cell_type": "code",
   "execution_count": 5,
   "id": "ac423ab4",
   "metadata": {},
   "outputs": [
    {
     "data": {
      "text/plain": [
       "(100,)"
      ]
     },
     "execution_count": 5,
     "metadata": {},
     "output_type": "execute_result"
    }
   ],
   "source": [
    "y.shape"
   ]
  },
  {
   "cell_type": "code",
   "execution_count": 6,
   "id": "d5c2f65a",
   "metadata": {},
   "outputs": [
    {
     "data": {
      "text/plain": [
       "(70,)"
      ]
     },
     "execution_count": 6,
     "metadata": {},
     "output_type": "execute_result"
    }
   ],
   "source": [
    "from sklearn import model_selection\n",
    "x_train, x_test, y_train, y_test = model_selection.train_test_split(x, y, test_size = 0.3)\n",
    "# test size = fraction of data kept for testing : by default it is 0.25\n",
    "x_train.shape"
   ]
  },
  {
   "cell_type": "code",
   "execution_count": 7,
   "id": "359ab78c",
   "metadata": {},
   "outputs": [],
   "source": [
    "def fit(x_train, y_train):\n",
    "    num = (x_train * y_train).mean() - x_train.mean() * y_train.mean()\n",
    "    den = (x_train ** 2).mean() - x_train.mean() ** 2\n",
    "    m = num / den\n",
    "    c = y_train.mean() - m * x_train.mean()\n",
    "    return m, c"
   ]
  },
  {
   "cell_type": "code",
   "execution_count": 8,
   "id": "0dbaa79c",
   "metadata": {},
   "outputs": [],
   "source": [
    "def predict(x, m, c):\n",
    "    return m * x + c\n",
    "\n",
    "def score(y_true, y_pred):\n",
    "    u = ((y_true - y_pred) ** 2).sum()\n",
    "    v = ((y_true - y_true.mean()) ** 2).sum()\n",
    "    return 1 - u / v\n",
    "\n",
    "def cost(x, y, m, c):\n",
    "    return ((y - m * x - c) ** 2).mean()"
   ]
  },
  {
   "cell_type": "code",
   "execution_count": 10,
   "id": "32743bcb",
   "metadata": {},
   "outputs": [
    {
     "name": "stdout",
     "output_type": "stream",
     "text": [
      "M = 1.229417257613198 and C = 11.267271335374183\n",
      "Test score  0.6104429412419778\n",
      "Train score  0.5478123285066905\n",
      "Cost on Training data  110.37623546441685\n",
      "\n",
      "Cost on Training data  2511.151342617069\n",
      "Cost on Training data  2511.1513426170714\n"
     ]
    }
   ],
   "source": [
    "m, c = fit(x_train, y_train)\n",
    "print(\"M =\", m, \"and C =\", c)\n",
    "\n",
    "#test data\n",
    "y_test_pred = predict(x_test, m, c)\n",
    "print(\"Test score \", score(y_test, y_test_pred))\n",
    "\n",
    "#train data\n",
    "y_train_pred = predict(x_train, m, c)\n",
    "print(\"Train score \", score(y_train, y_train_pred))\n",
    "print(\"Cost on Training data \", cost(x_train, y_train, m, c))\n",
    "print()\n",
    "print(\"Cost on Training data \", cost(x_train, y_train, m + 1, c))\n",
    "print(\"Cost on Training data \", cost(x_train, y_train, m - 1, c))\n",
    "#we are getting this due to the parabolic nature of cost function"
   ]
  },
  {
   "cell_type": "code",
   "execution_count": 11,
   "id": "f3661272",
   "metadata": {},
   "outputs": [],
   "source": [
    "# for make it more generalise and complex we can make this for n. Here made it for 2."
   ]
  },
  {
   "cell_type": "code",
   "execution_count": null,
   "id": "f9161173",
   "metadata": {},
   "outputs": [],
   "source": []
  }
 ],
 "metadata": {
  "kernelspec": {
   "display_name": "Python 3 (ipykernel)",
   "language": "python",
   "name": "python3"
  },
  "language_info": {
   "codemirror_mode": {
    "name": "ipython",
    "version": 3
   },
   "file_extension": ".py",
   "mimetype": "text/x-python",
   "name": "python",
   "nbconvert_exporter": "python",
   "pygments_lexer": "ipython3",
   "version": "3.11.5"
  }
 },
 "nbformat": 4,
 "nbformat_minor": 5
}
