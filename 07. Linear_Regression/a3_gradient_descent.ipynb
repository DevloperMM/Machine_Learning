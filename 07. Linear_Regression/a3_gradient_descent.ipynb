{
 "cells": [
  {
   "cell_type": "code",
   "execution_count": 1,
   "id": "a5fedad4",
   "metadata": {},
   "outputs": [],
   "source": [
    "import numpy as np"
   ]
  },
  {
   "cell_type": "code",
   "execution_count": 2,
   "id": "e78c3b92",
   "metadata": {},
   "outputs": [],
   "source": [
    "def cost(data, m, c):\n",
    "    total_cost = 0\n",
    "    N = len(data)\n",
    "    for i in range(N):\n",
    "        x = data[i, 0]\n",
    "        y = data[i, 1]\n",
    "        total_cost += (1/N) * ((y - m * x - c) ** 2)\n",
    "    return total_cost"
   ]
  },
  {
   "cell_type": "code",
   "execution_count": 3,
   "id": "21a469c1",
   "metadata": {},
   "outputs": [],
   "source": [
    "def step_gradient(data, alpha, m, c):\n",
    "    m_slope = 0\n",
    "    c_slope = 0\n",
    "    N = len(data)\n",
    "    for i in range(N):\n",
    "        x = data[i, 0]\n",
    "        y = data[i, 1]\n",
    "        m_slope += (-2/N) * (y - m * x - c) * x\n",
    "        c_slope += (-2/N) * (y - m * x - c)\n",
    "    new_m = m - alpha * m_slope\n",
    "    new_c = c - alpha * c_slope\n",
    "    return new_m, new_c"
   ]
  },
  {
   "cell_type": "code",
   "execution_count": 4,
   "id": "08aa9e6c",
   "metadata": {},
   "outputs": [],
   "source": [
    "def gd(data, alpha, iterations):\n",
    "    m = 0\n",
    "    c = 0\n",
    "    for i in range(iterations):\n",
    "        m, c = step_gradient(data, alpha, m, c)\n",
    "        print(i+1, 'Cost : ', cost(data, m, c))\n",
    "    return m, c"
   ]
  },
  {
   "cell_type": "code",
   "execution_count": 5,
   "id": "c9791aff",
   "metadata": {},
   "outputs": [],
   "source": [
    "def run():\n",
    "    data = np.loadtxt(\"SingleFeature.csv\", delimiter = ',')\n",
    "    alpha = 0.0001\n",
    "    iterations = 20\n",
    "    m = gd(data, alpha, iterations)\n",
    "    return m"
   ]
  },
  {
   "cell_type": "code",
   "execution_count": 6,
   "id": "d481233f",
   "metadata": {},
   "outputs": [
    {
     "name": "stdout",
     "output_type": "stream",
     "text": [
      "1 Cost :  1484.5865573886724\n",
      "2 Cost :  457.8542575549246\n",
      "3 Cost :  199.5099857089966\n",
      "4 Cost :  134.50591056654892\n",
      "5 Cost :  118.14969340734379\n",
      "6 Cost :  114.03414904545866\n",
      "7 Cost :  112.99857730225536\n",
      "8 Cost :  112.73798186081584\n",
      "9 Cost :  112.67238434422573\n",
      "10 Cost :  112.65585180013326\n",
      "11 Cost :  112.65166488273188\n",
      "12 Cost :  112.65058434663722\n",
      "13 Cost :  112.65028543215112\n",
      "14 Cost :  112.65018318807574\n",
      "15 Cost :  112.65013043020797\n",
      "16 Cost :  112.65009012436487\n",
      "17 Cost :  112.6500529520823\n",
      "18 Cost :  112.65001656866782\n",
      "19 Cost :  112.64998038415452\n",
      "20 Cost :  112.64994425009652\n"
     ]
    },
    {
     "data": {
      "text/plain": [
       "(1.4788956622798282, 0.030269517288280427)"
      ]
     },
     "execution_count": 6,
     "metadata": {},
     "output_type": "execute_result"
    }
   ],
   "source": [
    "run()"
   ]
  },
  {
   "cell_type": "markdown",
   "id": "8a32066e",
   "metadata": {},
   "source": [
    "### Assignment - Gradient descent for a generic case (m X n) instead of (m X 1)"
   ]
  },
  {
   "cell_type": "code",
   "execution_count": 7,
   "id": "05eb059d",
   "metadata": {},
   "outputs": [],
   "source": [
    "import numpy as np\n",
    "import pandas as pd"
   ]
  },
  {
   "cell_type": "code",
   "execution_count": 8,
   "id": "88752388",
   "metadata": {},
   "outputs": [],
   "source": [
    "data = pd.read_csv(\"MultiFeature.csv\", delimiter = ',')\n",
    "p = data.shape"
   ]
  },
  {
   "cell_type": "code",
   "execution_count": 9,
   "id": "7fc80608",
   "metadata": {},
   "outputs": [],
   "source": [
    "ft = data.iloc[0:, 0:13]\n",
    "tg = data.iloc[0:, 13]\n",
    "ft['13'] = 1\n",
    "tg = np.array(tg)\n",
    "ft = np.array(ft)"
   ]
  },
  {
   "cell_type": "code",
   "execution_count": 10,
   "id": "721f720d",
   "metadata": {},
   "outputs": [],
   "source": [
    "def cost(m):\n",
    "    total_cost = 0\n",
    "    for i in range(p[0]):\n",
    "        y = tg[i]\n",
    "        x = ft[i]\n",
    "        total_cost += (1/p[0]) * ((y - (m * x).sum()) ** 2)\n",
    "    return total_cost"
   ]
  },
  {
   "cell_type": "code",
   "execution_count": 11,
   "id": "9d09c153",
   "metadata": {},
   "outputs": [],
   "source": [
    "def step_gradient(alpha, m):\n",
    "    m_slope = np.zeros(p[1])\n",
    "    for i in range(p[0]):\n",
    "        y = tg[i]\n",
    "        x = ft[i]\n",
    "        for j in range(p[1]):\n",
    "            m_slope += (-2/p[0]) * (y - (m * x).sum()) * data.iloc[i, j]\n",
    "    new_m = m - alpha * m_slope\n",
    "    return new_m"
   ]
  },
  {
   "cell_type": "code",
   "execution_count": 12,
   "id": "2555383a",
   "metadata": {},
   "outputs": [],
   "source": [
    "def gd(alpha, iterations):\n",
    "    m = np.zeros(p[1])\n",
    "    for i in range(iterations):\n",
    "        m = step_gradient(alpha, m)\n",
    "        print(i, 'Cost : ', cost(m))\n",
    "    return m"
   ]
  },
  {
   "cell_type": "code",
   "execution_count": 15,
   "id": "6e8e4313",
   "metadata": {},
   "outputs": [],
   "source": [
    "def run():\n",
    "    alpha = 0.00001\n",
    "    iterations = 50\n",
    "    # in this case from output of 50 iterations, it is clear that 44 is the best number of iteration\n",
    "    m = gd(alpha, iterations)\n",
    "    return m"
   ]
  },
  {
   "cell_type": "code",
   "execution_count": 14,
   "id": "bf770e8c",
   "metadata": {},
   "outputs": [
    {
     "name": "stdout",
     "output_type": "stream",
     "text": [
      "0 Cost :  598.8721204405397\n",
      "1 Cost :  598.6281339578525\n",
      "2 Cost :  598.3902983182963\n",
      "3 Cost :  598.158602175433\n",
      "4 Cost :  597.9330341993015\n",
      "5 Cost :  597.7135830763883\n",
      "6 Cost :  597.5002375096118\n",
      "7 Cost :  597.2929862182941\n",
      "8 Cost :  597.0918179381476\n",
      "9 Cost :  596.8967214212428\n",
      "10 Cost :  596.7076854359944\n",
      "11 Cost :  596.5246987671374\n",
      "12 Cost :  596.3477502157026\n",
      "13 Cost :  596.176828598997\n",
      "14 Cost :  596.011922750583\n",
      "15 Cost :  595.8530215202534\n",
      "16 Cost :  595.7001137740148\n",
      "17 Cost :  595.5531883940594\n",
      "18 Cost :  595.4122342787488\n",
      "19 Cost :  595.2772403425901\n",
      "20 Cost :  595.1481955162144\n",
      "21 Cost :  595.025088746354\n",
      "22 Cost :  594.9079089958244\n",
      "23 Cost :  594.7966452434996\n",
      "24 Cost :  594.6912864842916\n",
      "25 Cost :  594.5918217291286\n",
      "26 Cost :  594.4982400049336\n",
      "27 Cost :  594.4105303546054\n",
      "28 Cost :  594.3286818369918\n",
      "29 Cost :  594.252683526873\n",
      "30 Cost :  594.1825245149404\n",
      "31 Cost :  594.118193907772\n",
      "32 Cost :  594.0596808278123\n",
      "33 Cost :  594.0069744133534\n",
      "34 Cost :  593.9600638185104\n",
      "35 Cost :  593.9189382132028\n",
      "36 Cost :  593.8835867831323\n",
      "37 Cost :  593.85399872976\n",
      "38 Cost :  593.8301632702893\n",
      "39 Cost :  593.8120696376408\n",
      "40 Cost :  593.7997070804356\n",
      "41 Cost :  593.7930648629676\n",
      "42 Cost :  593.7921322651885\n",
      "43 Cost :  593.7968985826864\n",
      "44 Cost :  593.807353126661\n",
      "45 Cost :  593.8234852239046\n",
      "46 Cost :  593.8452842167856\n",
      "47 Cost :  593.8727394632189\n",
      "48 Cost :  593.9058403366529\n",
      "49 Cost :  593.9445762260424\n"
     ]
    },
    {
     "data": {
      "text/plain": [
       "array([0.57838038, 0.57838038, 0.57838038, 0.57838038, 0.57838038,\n",
       "       0.57838038, 0.57838038, 0.57838038, 0.57838038, 0.57838038,\n",
       "       0.57838038, 0.57838038, 0.57838038, 0.57838038])"
      ]
     },
     "execution_count": 14,
     "metadata": {},
     "output_type": "execute_result"
    }
   ],
   "source": [
    "run()"
   ]
  },
  {
   "cell_type": "code",
   "execution_count": null,
   "id": "c640af32",
   "metadata": {},
   "outputs": [],
   "source": []
  }
 ],
 "metadata": {
  "kernelspec": {
   "display_name": "Python 3 (ipykernel)",
   "language": "python",
   "name": "python3"
  },
  "language_info": {
   "codemirror_mode": {
    "name": "ipython",
    "version": 3
   },
   "file_extension": ".py",
   "mimetype": "text/x-python",
   "name": "python",
   "nbconvert_exporter": "python",
   "pygments_lexer": "ipython3",
   "version": "3.11.5"
  }
 },
 "nbformat": 4,
 "nbformat_minor": 5
}
