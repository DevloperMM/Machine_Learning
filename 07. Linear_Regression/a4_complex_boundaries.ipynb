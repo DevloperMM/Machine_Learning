{
 "cells": [
  {
   "cell_type": "code",
   "execution_count": 75,
   "id": "9398bab2",
   "metadata": {},
   "outputs": [],
   "source": [
    "from sklearn import datasets"
   ]
  },
  {
   "cell_type": "code",
   "execution_count": 76,
   "id": "46e0eebb",
   "metadata": {},
   "outputs": [
    {
     "data": {
      "text/plain": [
       "numpy.ndarray"
      ]
     },
     "execution_count": 76,
     "metadata": {},
     "output_type": "execute_result"
    }
   ],
   "source": [
    "diabetes = datasets.load_diabetes()\n",
    "x = diabetes.data\n",
    "y = diabetes.target\n",
    "type(x)"
   ]
  },
  {
   "cell_type": "code",
   "execution_count": 77,
   "id": "20e6d307",
   "metadata": {},
   "outputs": [
    {
     "data": {
      "text/plain": [
       "((442, 10), (442,))"
      ]
     },
     "execution_count": 77,
     "metadata": {},
     "output_type": "execute_result"
    }
   ],
   "source": [
    "x.shape, y.shape"
   ]
  },
  {
   "cell_type": "code",
   "execution_count": 78,
   "id": "3ebaaae2",
   "metadata": {},
   "outputs": [
    {
     "name": "stdout",
     "output_type": "stream",
     "text": [
      "['age', 'sex', 'bmi', 'bp', 's1', 's2', 's3', 's4', 's5', 's6']\n"
     ]
    },
    {
     "data": {
      "text/plain": [
       "(442, 11)"
      ]
     },
     "execution_count": 78,
     "metadata": {},
     "output_type": "execute_result"
    }
   ],
   "source": [
    "import pandas as pd\n",
    "df = pd.DataFrame(x)\n",
    "\n",
    "print(diabetes.feature_names)\n",
    "\n",
    "df.columns = diabetes.feature_names\n",
    "df['age_age'] = df.age ** 2\n",
    "df.describe()\n",
    "\n",
    "x2 = df.values\n",
    "x2.shape"
   ]
  },
  {
   "cell_type": "code",
   "execution_count": 79,
   "id": "9217bd5d",
   "metadata": {},
   "outputs": [],
   "source": [
    "from sklearn import model_selection\n",
    "x_train, x_test, y_train, y_test = model_selection.train_test_split(x, y, random_state = 0)\n",
    "x2_train, x2_test, y2_train, y2_test = model_selection.train_test_split(x2, y, random_state = 0)"
   ]
  },
  {
   "cell_type": "code",
   "execution_count": 80,
   "id": "1081ed34",
   "metadata": {},
   "outputs": [],
   "source": [
    "from sklearn.linear_model import LinearRegression\n",
    "alg1 = LinearRegression()\n",
    "alg2 = LinearRegression()"
   ]
  },
  {
   "cell_type": "code",
   "execution_count": 81,
   "id": "fb7b9ad5",
   "metadata": {
    "scrolled": true
   },
   "outputs": [
    {
     "name": "stdout",
     "output_type": "stream",
     "text": [
      "LinearRegression()\n",
      "LinearRegression()\n"
     ]
    }
   ],
   "source": [
    "print(alg1.fit(x_train, y_train))\n",
    "print(alg2.fit(x2_train, y2_train))"
   ]
  },
  {
   "cell_type": "code",
   "execution_count": 82,
   "id": "770e2ad3",
   "metadata": {},
   "outputs": [
    {
     "name": "stdout",
     "output_type": "stream",
     "text": [
      "0.5554337250189862\n",
      "0.35940880381777096\n"
     ]
    }
   ],
   "source": [
    "#y_pred = alg1.predict(x_test)\n",
    "train_score = alg1.score(x_train, y_train)\n",
    "test_score = alg1.score(x_test, y_test)\n",
    "print(train_score)\n",
    "print(test_score)"
   ]
  },
  {
   "cell_type": "code",
   "execution_count": 83,
   "id": "c46c3ae2",
   "metadata": {},
   "outputs": [
    {
     "name": "stdout",
     "output_type": "stream",
     "text": [
      "0.563967095625916\n",
      "0.3569777322064769\n"
     ]
    }
   ],
   "source": [
    "train2_score = alg2.score(x2_train, y2_train)\n",
    "test2_score = alg2.score(x2_test, y2_test)\n",
    "print(train2_score)\n",
    "print(test2_score)"
   ]
  },
  {
   "cell_type": "markdown",
   "id": "05ef1149",
   "metadata": {},
   "source": [
    "### Assignment - analysis for more features by LinearRegression and variation in score"
   ]
  },
  {
   "cell_type": "code",
   "execution_count": 1,
   "id": "7a2c0846",
   "metadata": {},
   "outputs": [],
   "source": [
    "from sklearn import datasets"
   ]
  },
  {
   "cell_type": "code",
   "execution_count": 2,
   "id": "6519b54c",
   "metadata": {},
   "outputs": [
    {
     "data": {
      "text/plain": [
       "numpy.ndarray"
      ]
     },
     "execution_count": 2,
     "metadata": {},
     "output_type": "execute_result"
    }
   ],
   "source": [
    "diabetes = datasets.load_diabetes()\n",
    "x = diabetes.data\n",
    "y = diabetes.target\n",
    "type(x)"
   ]
  },
  {
   "cell_type": "code",
   "execution_count": 3,
   "id": "277b2c36",
   "metadata": {},
   "outputs": [
    {
     "data": {
      "text/plain": [
       "((442, 10), (442,))"
      ]
     },
     "execution_count": 3,
     "metadata": {},
     "output_type": "execute_result"
    }
   ],
   "source": [
    "x.shape, y.shape"
   ]
  },
  {
   "cell_type": "code",
   "execution_count": 4,
   "id": "0108f77b",
   "metadata": {},
   "outputs": [
    {
     "name": "stdout",
     "output_type": "stream",
     "text": [
      "['age', 'sex', 'bmi', 'bp', 's1', 's2', 's3', 's4', 's5', 's6']\n"
     ]
    },
    {
     "data": {
      "text/plain": [
       "((442, 20), (442,))"
      ]
     },
     "execution_count": 4,
     "metadata": {},
     "output_type": "execute_result"
    }
   ],
   "source": [
    "import pandas as pd\n",
    "df = pd.DataFrame(x)\n",
    "\n",
    "print(diabetes.feature_names)\n",
    "\n",
    "df.columns = diabetes.feature_names\n",
    "df['age_age'] = df.age ** 2\n",
    "df['sex_sex'] = df.sex ** 2\n",
    "df['bmi_bmi'] = df.bmi ** 2\n",
    "df['bp_bp'] = df.bp ** 2\n",
    "df['s1_s1'] = df.s1 ** 2\n",
    "df['s2_s2'] = df.s2 ** 2\n",
    "df['s3_s3'] = df.s3 ** 2\n",
    "df['s4_s4'] = df.s4 ** 2\n",
    "df['s5_s5'] = df.s5 ** 2\n",
    "df['s6_s6'] = df.s6 ** 2\n",
    "\n",
    "x2 = df.values\n",
    "x2.shape, y.shape\n",
    "# df.describe()"
   ]
  },
  {
   "cell_type": "code",
   "execution_count": 5,
   "id": "7f203026",
   "metadata": {},
   "outputs": [],
   "source": [
    "from sklearn import model_selection\n",
    "x_train, x_test, y_train, y_test = model_selection.train_test_split(x, y, random_state = 0)\n",
    "x2_train, x2_test, y2_train, y2_test = model_selection.train_test_split(x2, y, random_state = 0)"
   ]
  },
  {
   "cell_type": "code",
   "execution_count": 6,
   "id": "0004af0a",
   "metadata": {},
   "outputs": [],
   "source": [
    "from sklearn.linear_model import LinearRegression\n",
    "alg1 = LinearRegression()\n",
    "alg2 = LinearRegression()"
   ]
  },
  {
   "cell_type": "code",
   "execution_count": 7,
   "id": "08a16256",
   "metadata": {},
   "outputs": [
    {
     "name": "stdout",
     "output_type": "stream",
     "text": [
      "LinearRegression()\n",
      "LinearRegression()\n"
     ]
    }
   ],
   "source": [
    "print(alg1.fit(x_train, y_train))\n",
    "print(alg2.fit(x2_train, y2_train))"
   ]
  },
  {
   "cell_type": "code",
   "execution_count": 8,
   "id": "0f85e925",
   "metadata": {},
   "outputs": [
    {
     "name": "stdout",
     "output_type": "stream",
     "text": [
      "0.5554337250189862\n",
      "0.35940880381777096\n"
     ]
    }
   ],
   "source": [
    "#y_pred = alg1.predict(x_test)\n",
    "train_score = alg1.score(x_train, y_train)\n",
    "test_score = alg1.score(x_test, y_test)\n",
    "print(train_score)\n",
    "print(test_score)"
   ]
  },
  {
   "cell_type": "code",
   "execution_count": 9,
   "id": "44df2df1",
   "metadata": {},
   "outputs": [
    {
     "name": "stdout",
     "output_type": "stream",
     "text": [
      "0.5891392697777873\n",
      "0.35078700474982083\n"
     ]
    }
   ],
   "source": [
    "train2_score = alg2.score(x2_train, y2_train)\n",
    "test2_score = alg2.score(x2_test, y2_test)\n",
    "print(train2_score)\n",
    "print(test2_score)"
   ]
  },
  {
   "cell_type": "code",
   "execution_count": null,
   "id": "ba75845f",
   "metadata": {},
   "outputs": [],
   "source": []
  }
 ],
 "metadata": {
  "kernelspec": {
   "display_name": "Python 3 (ipykernel)",
   "language": "python",
   "name": "python3"
  },
  "language_info": {
   "codemirror_mode": {
    "name": "ipython",
    "version": 3
   },
   "file_extension": ".py",
   "mimetype": "text/x-python",
   "name": "python",
   "nbconvert_exporter": "python",
   "pygments_lexer": "ipython3",
   "version": "3.11.5"
  }
 },
 "nbformat": 4,
 "nbformat_minor": 5
}
