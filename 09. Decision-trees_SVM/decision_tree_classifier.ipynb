{
 "cells": [
  {
   "cell_type": "code",
   "execution_count": null,
   "id": "7d900afd-2e9c-46ec-bb2a-dac6ea6ac01b",
   "metadata": {
    "executionInfo": {
     "elapsed": 9,
     "status": "ok",
     "timestamp": 1693454333292,
     "user": {
      "displayName": "ABDUL BASIT",
      "userId": "16683004079872584475"
     },
     "user_tz": -300
    },
    "id": "7d900afd-2e9c-46ec-bb2a-dac6ea6ac01b"
   },
   "outputs": [],
   "source": [
    "import pandas as pd\n",
    "import numpy as np\n",
    "import matplotlib.pyplot as plt\n",
    "%matplotlib inline"
   ]
  },
  {
   "cell_type": "code",
   "execution_count": null,
   "id": "83f11cfd-4785-464e-b063-8fcaf8c88da5",
   "metadata": {
    "executionInfo": {
     "elapsed": 1721,
     "status": "ok",
     "timestamp": 1693454337983,
     "user": {
      "displayName": "ABDUL BASIT",
      "userId": "16683004079872584475"
     },
     "user_tz": -300
    },
    "id": "83f11cfd-4785-464e-b063-8fcaf8c88da5"
   },
   "outputs": [],
   "source": [
    "from sklearn.datasets import load_iris"
   ]
  },
  {
   "cell_type": "code",
   "execution_count": null,
   "id": "8988509f-5a51-492b-9726-2011612f5e07",
   "metadata": {
    "executionInfo": {
     "elapsed": 15,
     "status": "ok",
     "timestamp": 1693454340653,
     "user": {
      "displayName": "ABDUL BASIT",
      "userId": "16683004079872584475"
     },
     "user_tz": -300
    },
    "id": "8988509f-5a51-492b-9726-2011612f5e07"
   },
   "outputs": [],
   "source": [
    "dataset = load_iris()"
   ]
  },
  {
   "cell_type": "code",
   "execution_count": null,
   "id": "43fed7bd-034b-4ffa-8d65-ab898ddeaf2a",
   "metadata": {
    "colab": {
     "base_uri": "https://localhost:8080/"
    },
    "executionInfo": {
     "elapsed": 27,
     "status": "ok",
     "timestamp": 1693454343079,
     "user": {
      "displayName": "ABDUL BASIT",
      "userId": "16683004079872584475"
     },
     "user_tz": -300
    },
    "id": "43fed7bd-034b-4ffa-8d65-ab898ddeaf2a",
    "outputId": "820d9979-613f-4332-adc0-0418358c0d01"
   },
   "outputs": [],
   "source": [
    "print(dataset.DESCR)"
   ]
  },
  {
   "cell_type": "code",
   "execution_count": null,
   "id": "797a9c21-ff73-4646-9942-3973525bd683",
   "metadata": {
    "executionInfo": {
     "elapsed": 1792,
     "status": "ok",
     "timestamp": 1693454360973,
     "user": {
      "displayName": "ABDUL BASIT",
      "userId": "16683004079872584475"
     },
     "user_tz": -300
    },
    "id": "797a9c21-ff73-4646-9942-3973525bd683"
   },
   "outputs": [],
   "source": [
    "import seaborn as sns"
   ]
  },
  {
   "cell_type": "code",
   "execution_count": null,
   "id": "9bb22043-e79c-4bab-b006-90adc5859cc2",
   "metadata": {
    "executionInfo": {
     "elapsed": 14,
     "status": "ok",
     "timestamp": 1693454360974,
     "user": {
      "displayName": "ABDUL BASIT",
      "userId": "16683004079872584475"
     },
     "user_tz": -300
    },
    "id": "9bb22043-e79c-4bab-b006-90adc5859cc2"
   },
   "outputs": [],
   "source": [
    "df = sns.load_dataset('iris')"
   ]
  },
  {
   "cell_type": "code",
   "execution_count": null,
   "id": "b6c37c3d-3fbc-4129-a34d-cc69191d4864",
   "metadata": {
    "colab": {
     "base_uri": "https://localhost:8080/",
     "height": 206
    },
    "executionInfo": {
     "elapsed": 676,
     "status": "ok",
     "timestamp": 1693454362237,
     "user": {
      "displayName": "ABDUL BASIT",
      "userId": "16683004079872584475"
     },
     "user_tz": -300
    },
    "id": "b6c37c3d-3fbc-4129-a34d-cc69191d4864",
    "outputId": "4287172f-8ca0-4b9b-d482-419503941315"
   },
   "outputs": [],
   "source": [
    "df.head()"
   ]
  },
  {
   "cell_type": "code",
   "execution_count": null,
   "id": "5257116d-8328-4ece-968d-1550acda66f3",
   "metadata": {
    "colab": {
     "base_uri": "https://localhost:8080/"
    },
    "executionInfo": {
     "elapsed": 428,
     "status": "ok",
     "timestamp": 1693454365829,
     "user": {
      "displayName": "ABDUL BASIT",
      "userId": "16683004079872584475"
     },
     "user_tz": -300
    },
    "id": "5257116d-8328-4ece-968d-1550acda66f3",
    "outputId": "5e5812a6-c69d-4615-834d-3eccf847541a"
   },
   "outputs": [],
   "source": [
    "dataset.target"
   ]
  },
  {
   "cell_type": "code",
   "execution_count": null,
   "id": "3c182a79-555c-4af4-8015-eabcb44c4313",
   "metadata": {
    "executionInfo": {
     "elapsed": 23,
     "status": "ok",
     "timestamp": 1693454388436,
     "user": {
      "displayName": "ABDUL BASIT",
      "userId": "16683004079872584475"
     },
     "user_tz": -300
    },
    "id": "3c182a79-555c-4af4-8015-eabcb44c4313"
   },
   "outputs": [],
   "source": [
    "# Independent and dependent features\n",
    "X = df.iloc[:,:-1]\n",
    "y = dataset.target"
   ]
  },
  {
   "cell_type": "code",
   "execution_count": null,
   "id": "ed996344-ef59-436a-b353-b72d7c152a69",
   "metadata": {
    "executionInfo": {
     "elapsed": 394,
     "status": "ok",
     "timestamp": 1693454429015,
     "user": {
      "displayName": "ABDUL BASIT",
      "userId": "16683004079872584475"
     },
     "user_tz": -300
    },
    "id": "ed996344-ef59-436a-b353-b72d7c152a69"
   },
   "outputs": [],
   "source": [
    "# train test split\n",
    "from sklearn.model_selection import train_test_split\n",
    "X_train, X_test, y_train, y_test = train_test_split(X, y, test_size=0.33, random_state=42)"
   ]
  },
  {
   "cell_type": "code",
   "execution_count": null,
   "id": "0209fcaf-7f23-485e-a351-c1bbc1035286",
   "metadata": {
    "executionInfo": {
     "elapsed": 11,
     "status": "ok",
     "timestamp": 1693454430735,
     "user": {
      "displayName": "ABDUL BASIT",
      "userId": "16683004079872584475"
     },
     "user_tz": -300
    },
    "id": "0209fcaf-7f23-485e-a351-c1bbc1035286"
   },
   "outputs": [],
   "source": [
    "from sklearn.tree import DecisionTreeClassifier"
   ]
  },
  {
   "cell_type": "code",
   "execution_count": null,
   "id": "89e08f02-8ffb-4df0-9c40-2c981a9f9703",
   "metadata": {
    "executionInfo": {
     "elapsed": 408,
     "status": "ok",
     "timestamp": 1693454435317,
     "user": {
      "displayName": "ABDUL BASIT",
      "userId": "16683004079872584475"
     },
     "user_tz": -300
    },
    "id": "89e08f02-8ffb-4df0-9c40-2c981a9f9703"
   },
   "outputs": [],
   "source": [
    "treeclassifier = DecisionTreeClassifier()"
   ]
  },
  {
   "cell_type": "code",
   "execution_count": null,
   "id": "f5875e08-2d68-425a-b6bb-c0ad38d3e125",
   "metadata": {
    "colab": {
     "base_uri": "https://localhost:8080/",
     "height": 74
    },
    "executionInfo": {
     "elapsed": 435,
     "status": "ok",
     "timestamp": 1693454439421,
     "user": {
      "displayName": "ABDUL BASIT",
      "userId": "16683004079872584475"
     },
     "user_tz": -300
    },
    "id": "f5875e08-2d68-425a-b6bb-c0ad38d3e125",
    "outputId": "fffde5f3-2a6d-4a85-b497-1f2339babe58"
   },
   "outputs": [],
   "source": [
    "treeclassifier.fit(X_train,y_train)"
   ]
  },
  {
   "cell_type": "code",
   "execution_count": null,
   "id": "5b8d8f96-d663-4cb3-a5a0-cca2b86a0540",
   "metadata": {
    "colab": {
     "base_uri": "https://localhost:8080/",
     "height": 206
    },
    "executionInfo": {
     "elapsed": 404,
     "status": "ok",
     "timestamp": 1693454446113,
     "user": {
      "displayName": "ABDUL BASIT",
      "userId": "16683004079872584475"
     },
     "user_tz": -300
    },
    "id": "5b8d8f96-d663-4cb3-a5a0-cca2b86a0540",
    "outputId": "8be37cd4-765e-4b9f-c0ea-c50c0d6640a7"
   },
   "outputs": [],
   "source": [
    "X_train.head()"
   ]
  },
  {
   "cell_type": "code",
   "execution_count": null,
   "id": "af658d8d-c15f-4497-8bfb-80c2f0a6104f",
   "metadata": {
    "colab": {
     "base_uri": "https://localhost:8080/",
     "height": 1000
    },
    "executionInfo": {
     "elapsed": 1816,
     "status": "ok",
     "timestamp": 1693454628444,
     "user": {
      "displayName": "ABDUL BASIT",
      "userId": "16683004079872584475"
     },
     "user_tz": -300
    },
    "id": "af658d8d-c15f-4497-8bfb-80c2f0a6104f",
    "outputId": "5d9337d5-3263-4a11-e41d-9329de02af50"
   },
   "outputs": [],
   "source": [
    "from sklearn import tree\n",
    "plt.figure(figsize = (15,10))\n",
    "tree.plot_tree(treeclassifier, filled = True)"
   ]
  },
  {
   "cell_type": "markdown",
   "id": "a52f2427",
   "metadata": {
    "colab": {
     "base_uri": "https://localhost:8080/",
     "height": 74
    },
    "executionInfo": {
     "elapsed": 455,
     "status": "ok",
     "timestamp": 1693454681251,
     "user": {
      "displayName": "ABDUL BASIT",
      "userId": "16683004079872584475"
     },
     "user_tz": -300
    },
    "id": "35494e3a-212b-428c-b740-5d2dca7baa20",
    "outputId": "d2236d45-8524-4d25-e98c-a773e1357ada"
   },
   "source": [
    "### Decision Tree Post Pruning with depth = 2"
   ]
  },
  {
   "cell_type": "code",
   "execution_count": null,
   "id": "35494e3a-212b-428c-b740-5d2dca7baa20",
   "metadata": {
    "colab": {
     "base_uri": "https://localhost:8080/",
     "height": 74
    },
    "executionInfo": {
     "elapsed": 455,
     "status": "ok",
     "timestamp": 1693454681251,
     "user": {
      "displayName": "ABDUL BASIT",
      "userId": "16683004079872584475"
     },
     "user_tz": -300
    },
    "id": "35494e3a-212b-428c-b740-5d2dca7baa20",
    "outputId": "d2236d45-8524-4d25-e98c-a773e1357ada"
   },
   "outputs": [],
   "source": [
    "treeclassifier = DecisionTreeClassifier(criterion = 'entropy', max_depth = 2)\n",
    "treeclassifier.fit(X_train,y_train)"
   ]
  },
  {
   "cell_type": "code",
   "execution_count": null,
   "id": "9f3eb0b3-b18e-4af7-b20b-83107024ea03",
   "metadata": {
    "colab": {
     "base_uri": "https://localhost:8080/",
     "height": 894
    },
    "executionInfo": {
     "elapsed": 1640,
     "status": "ok",
     "timestamp": 1693454703158,
     "user": {
      "displayName": "ABDUL BASIT",
      "userId": "16683004079872584475"
     },
     "user_tz": -300
    },
    "id": "9f3eb0b3-b18e-4af7-b20b-83107024ea03",
    "outputId": "48f3a950-429d-48fc-9079-c881f1948da9"
   },
   "outputs": [],
   "source": [
    "from sklearn import tree\n",
    "plt.figure(figsize = (8, 6))\n",
    "tree.plot_tree(treeclassifier, filled = True)"
   ]
  },
  {
   "cell_type": "code",
   "execution_count": null,
   "id": "cd4cddea-85ce-4c7b-9a16-a0aa6cdf32c0",
   "metadata": {
    "executionInfo": {
     "elapsed": 405,
     "status": "ok",
     "timestamp": 1693454710744,
     "user": {
      "displayName": "ABDUL BASIT",
      "userId": "16683004079872584475"
     },
     "user_tz": -300
    },
    "id": "cd4cddea-85ce-4c7b-9a16-a0aa6cdf32c0"
   },
   "outputs": [],
   "source": [
    "# prediction\n",
    "y_pred = treeclassifier.predict(X_test)"
   ]
  },
  {
   "cell_type": "code",
   "execution_count": null,
   "id": "9d72ed3e-059d-4d97-ae1a-011b6394828f",
   "metadata": {
    "colab": {
     "base_uri": "https://localhost:8080/"
    },
    "executionInfo": {
     "elapsed": 402,
     "status": "ok",
     "timestamp": 1693454714962,
     "user": {
      "displayName": "ABDUL BASIT",
      "userId": "16683004079872584475"
     },
     "user_tz": -300
    },
    "id": "9d72ed3e-059d-4d97-ae1a-011b6394828f",
    "outputId": "6226fff9-5aa6-483a-f500-a7b6b0e019cd"
   },
   "outputs": [],
   "source": [
    "y_pred"
   ]
  },
  {
   "cell_type": "code",
   "execution_count": null,
   "id": "bdd86d16-d577-4101-9465-49534621f2fd",
   "metadata": {
    "executionInfo": {
     "elapsed": 384,
     "status": "ok",
     "timestamp": 1693454718195,
     "user": {
      "displayName": "ABDUL BASIT",
      "userId": "16683004079872584475"
     },
     "user_tz": -300
    },
    "id": "bdd86d16-d577-4101-9465-49534621f2fd"
   },
   "outputs": [],
   "source": [
    "from sklearn.metrics import accuracy_score,classification_report"
   ]
  },
  {
   "cell_type": "code",
   "execution_count": null,
   "id": "42283592-58a2-4605-b8a0-92c0f0b50d1d",
   "metadata": {
    "colab": {
     "base_uri": "https://localhost:8080/"
    },
    "executionInfo": {
     "elapsed": 417,
     "status": "ok",
     "timestamp": 1693454722137,
     "user": {
      "displayName": "ABDUL BASIT",
      "userId": "16683004079872584475"
     },
     "user_tz": -300
    },
    "id": "42283592-58a2-4605-b8a0-92c0f0b50d1d",
    "outputId": "13d117bf-09d7-4103-aca9-2f182e0a2b05"
   },
   "outputs": [],
   "source": [
    "score = accuracy_score(y_pred, y_test)\n",
    "print(score)\n",
    "print(classification_report(y_pred, y_test))"
   ]
  },
  {
   "cell_type": "markdown",
   "id": "2c34d660",
   "metadata": {},
   "source": [
    "### DecisionTree Prepruning And Hyperparameter Tuning For Huge Data"
   ]
  },
  {
   "cell_type": "code",
   "execution_count": null,
   "id": "44ff6912",
   "metadata": {},
   "outputs": [],
   "source": [
    "import warnings\n",
    "warnings.filterwarnings('ignore')"
   ]
  },
  {
   "cell_type": "code",
   "execution_count": null,
   "id": "96366f3a",
   "metadata": {},
   "outputs": [],
   "source": [
    "parameter={\n",
    " 'criterion':['gini','entropy','log_loss'],\n",
    "  'splitter':['best','random'],\n",
    "  'max_depth':[1,2,3,4,5],\n",
    "  'max_features':['auto', 'sqrt', 'log2']    \n",
    "}"
   ]
  },
  {
   "cell_type": "code",
   "execution_count": null,
   "id": "876d9540",
   "metadata": {},
   "outputs": [],
   "source": [
    "from sklearn.model_selection import GridSearchCV"
   ]
  },
  {
   "cell_type": "code",
   "execution_count": null,
   "id": "f40a7790",
   "metadata": {},
   "outputs": [],
   "source": [
    "treeclassifier = DecisionTreeClassifier()\n",
    "clf = GridSearchCV(treeclassifier, param_grid = parameter, cv = 5, scoring = 'accuracy')"
   ]
  },
  {
   "cell_type": "code",
   "execution_count": null,
   "id": "1d52796b",
   "metadata": {},
   "outputs": [],
   "source": [
    "# Train the data\n",
    "clf.fit(X_train, y_train)"
   ]
  },
  {
   "cell_type": "code",
   "execution_count": null,
   "id": "e0be0e31",
   "metadata": {},
   "outputs": [],
   "source": [
    "clf.best_params_"
   ]
  },
  {
   "cell_type": "code",
   "execution_count": null,
   "id": "9ede4af8",
   "metadata": {},
   "outputs": [],
   "source": [
    "y_pred = clf.predict(X_test)"
   ]
  },
  {
   "cell_type": "code",
   "execution_count": null,
   "id": "caf261e9",
   "metadata": {},
   "outputs": [],
   "source": [
    "score = accuracy_score(y_pred, y_test)\n",
    "score"
   ]
  },
  {
   "cell_type": "code",
   "execution_count": null,
   "id": "c91b9e77",
   "metadata": {},
   "outputs": [],
   "source": [
    "print(classification_report(y_pred, y_test))"
   ]
  }
 ],
 "metadata": {
  "colab": {
   "provenance": []
  },
  "kernelspec": {
   "display_name": "Python 3 (ipykernel)",
   "language": "python",
   "name": "python3"
  },
  "language_info": {
   "codemirror_mode": {
    "name": "ipython",
    "version": 3
   },
   "file_extension": ".py",
   "mimetype": "text/x-python",
   "name": "python",
   "nbconvert_exporter": "python",
   "pygments_lexer": "ipython3",
   "version": "3.11.5"
  }
 },
 "nbformat": 4,
 "nbformat_minor": 5
}
