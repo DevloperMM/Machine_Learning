{
 "cells": [
  {
   "cell_type": "code",
   "execution_count": null,
   "id": "a0583517",
   "metadata": {},
   "outputs": [],
   "source": [
    "import warnings\n",
    "warnings.filterwarnings('ignore')"
   ]
  },
  {
   "cell_type": "code",
   "execution_count": null,
   "id": "dc83492e",
   "metadata": {
    "executionInfo": {
     "elapsed": 1747,
     "status": "ok",
     "timestamp": 1693319352215,
     "user": {
      "displayName": "yash agarwal",
      "userId": "17024594359733032999"
     },
     "user_tz": -330
    },
    "id": "dc83492e"
   },
   "outputs": [],
   "source": [
    "import pandas as pd\n",
    "import matplotlib.pyplot as plt\n",
    "%matplotlib inline"
   ]
  },
  {
   "cell_type": "code",
   "execution_count": null,
   "id": "161f2fd7",
   "metadata": {
    "executionInfo": {
     "elapsed": 2307,
     "status": "ok",
     "timestamp": 1693319354518,
     "user": {
      "displayName": "yash agarwal",
      "userId": "17024594359733032999"
     },
     "user_tz": -330
    },
    "id": "161f2fd7"
   },
   "outputs": [],
   "source": [
    "# California House Pricing Dataset\n",
    "from sklearn.datasets import fetch_california_housing\n",
    "california_df = fetch_california_housing()"
   ]
  },
  {
   "cell_type": "code",
   "execution_count": null,
   "id": "e1e050c6",
   "metadata": {
    "colab": {
     "base_uri": "https://localhost:8080/"
    },
    "executionInfo": {
     "elapsed": 30,
     "status": "ok",
     "timestamp": 1693319354518,
     "user": {
      "displayName": "yash agarwal",
      "userId": "17024594359733032999"
     },
     "user_tz": -330
    },
    "id": "e1e050c6",
    "outputId": "c91208af-ea7e-41c8-b9e1-e460436b7ad0"
   },
   "outputs": [],
   "source": [
    "california_df"
   ]
  },
  {
   "cell_type": "code",
   "execution_count": null,
   "id": "fcf26437-6293-459f-a1a2-3ab9631e2395",
   "metadata": {
    "executionInfo": {
     "elapsed": 26,
     "status": "ok",
     "timestamp": 1693319354519,
     "user": {
      "displayName": "yash agarwal",
      "userId": "17024594359733032999"
     },
     "user_tz": -330
    },
    "id": "fcf26437-6293-459f-a1a2-3ab9631e2395"
   },
   "outputs": [],
   "source": [
    "df = pd.DataFrame(california_df.data, columns = california_df.feature_names)\n",
    "df['Target'] = california_df.target\n",
    "# Taking Sample Data\n",
    "df = df.sample(frac = 0.25)"
   ]
  },
  {
   "cell_type": "code",
   "execution_count": null,
   "id": "fafae4f3",
   "metadata": {
    "executionInfo": {
     "elapsed": 25,
     "status": "ok",
     "timestamp": 1693319354519,
     "user": {
      "displayName": "yash agarwal",
      "userId": "17024594359733032999"
     },
     "user_tz": -330
    },
    "id": "fafae4f3"
   },
   "outputs": [],
   "source": [
    "# independent features\n",
    "X = df.iloc[:,:-1]\n",
    "# dependent features\n",
    "y = df.iloc[:,-1]"
   ]
  },
  {
   "cell_type": "code",
   "execution_count": null,
   "id": "5a30752c",
   "metadata": {
    "colab": {
     "base_uri": "https://localhost:8080/",
     "height": 206
    },
    "executionInfo": {
     "elapsed": 26,
     "status": "ok",
     "timestamp": 1693319354520,
     "user": {
      "displayName": "yash agarwal",
      "userId": "17024594359733032999"
     },
     "user_tz": -330
    },
    "id": "5a30752c",
    "outputId": "66468b0e-26fc-4e2b-e095-d702268758ec"
   },
   "outputs": [],
   "source": [
    "X.head()"
   ]
  },
  {
   "cell_type": "code",
   "execution_count": null,
   "id": "204dc4af",
   "metadata": {
    "executionInfo": {
     "elapsed": 23,
     "status": "ok",
     "timestamp": 1693319354520,
     "user": {
      "displayName": "yash agarwal",
      "userId": "17024594359733032999"
     },
     "user_tz": -330
    },
    "id": "204dc4af"
   },
   "outputs": [],
   "source": [
    "# train test split\n",
    "from sklearn.model_selection import train_test_split\n",
    "X_train, X_test, y_train, y_test = train_test_split(X, y, test_size=0.33, random_state=42)"
   ]
  },
  {
   "cell_type": "code",
   "execution_count": null,
   "id": "cddbf544",
   "metadata": {
    "executionInfo": {
     "elapsed": 1853,
     "status": "ok",
     "timestamp": 1693319356351,
     "user": {
      "displayName": "yash agarwal",
      "userId": "17024594359733032999"
     },
     "user_tz": -330
    },
    "id": "cddbf544"
   },
   "outputs": [],
   "source": [
    "from sklearn.tree import DecisionTreeRegressor\n",
    "regressor = DecisionTreeRegressor()"
   ]
  },
  {
   "cell_type": "code",
   "execution_count": null,
   "id": "3464ee3b",
   "metadata": {
    "colab": {
     "base_uri": "https://localhost:8080/",
     "height": 74
    },
    "executionInfo": {
     "elapsed": 24,
     "status": "ok",
     "timestamp": 1693319356351,
     "user": {
      "displayName": "yash agarwal",
      "userId": "17024594359733032999"
     },
     "user_tz": -330
    },
    "id": "3464ee3b",
    "outputId": "0ee2a12c-7a2d-48c9-fd4a-a75cebea5f60"
   },
   "outputs": [],
   "source": [
    "regressor.fit(X_train, y_train)"
   ]
  },
  {
   "cell_type": "code",
   "execution_count": null,
   "id": "68f011be",
   "metadata": {
    "executionInfo": {
     "elapsed": 19,
     "status": "ok",
     "timestamp": 1693319356352,
     "user": {
      "displayName": "yash agarwal",
      "userId": "17024594359733032999"
     },
     "user_tz": -330
    },
    "id": "68f011be"
   },
   "outputs": [],
   "source": [
    "y_pred = regressor.predict(X_test)"
   ]
  },
  {
   "cell_type": "code",
   "execution_count": null,
   "id": "74aca27e",
   "metadata": {
    "colab": {
     "base_uri": "https://localhost:8080/"
    },
    "executionInfo": {
     "elapsed": 20,
     "status": "ok",
     "timestamp": 1693319356353,
     "user": {
      "displayName": "yash agarwal",
      "userId": "17024594359733032999"
     },
     "user_tz": -330
    },
    "id": "74aca27e",
    "outputId": "746d6cfd-e7cc-4423-d426-8380a0495566"
   },
   "outputs": [],
   "source": [
    "y_pred"
   ]
  },
  {
   "cell_type": "code",
   "execution_count": null,
   "id": "3b222c79",
   "metadata": {
    "executionInfo": {
     "elapsed": 18,
     "status": "ok",
     "timestamp": 1693319356354,
     "user": {
      "displayName": "yash agarwal",
      "userId": "17024594359733032999"
     },
     "user_tz": -330
    },
    "id": "3b222c79"
   },
   "outputs": [],
   "source": [
    "from sklearn.metrics import r2_score\n",
    "score = r2_score(y_pred, y_test)"
   ]
  },
  {
   "cell_type": "code",
   "execution_count": null,
   "id": "b2762cc6",
   "metadata": {
    "colab": {
     "base_uri": "https://localhost:8080/"
    },
    "executionInfo": {
     "elapsed": 18,
     "status": "ok",
     "timestamp": 1693319356354,
     "user": {
      "displayName": "yash agarwal",
      "userId": "17024594359733032999"
     },
     "user_tz": -330
    },
    "id": "b2762cc6",
    "outputId": "1e8f3114-dde0-45ae-9259-322f40295530"
   },
   "outputs": [],
   "source": [
    "score"
   ]
  },
  {
   "cell_type": "code",
   "execution_count": null,
   "id": "528e7da3",
   "metadata": {
    "executionInfo": {
     "elapsed": 15,
     "status": "ok",
     "timestamp": 1693319356354,
     "user": {
      "displayName": "yash agarwal",
      "userId": "17024594359733032999"
     },
     "user_tz": -330
    },
    "id": "528e7da3"
   },
   "outputs": [],
   "source": [
    "# Hyperparameter Tunning\n",
    "parameter={\n",
    " 'criterion':['squared_error','friedman_mse','absolute_error','poisson'],\n",
    "  'splitter':['best','random'],\n",
    "  'max_depth':[1,2,3,4,5,6,7,8,10,11,12],\n",
    "  'max_features':['auto', 'sqrt', 'log2']\n",
    "}\n",
    "regressor=DecisionTreeRegressor()"
   ]
  },
  {
   "cell_type": "code",
   "execution_count": null,
   "id": "6a8d156c",
   "metadata": {
    "executionInfo": {
     "elapsed": 16,
     "status": "ok",
     "timestamp": 1693319356355,
     "user": {
      "displayName": "yash agarwal",
      "userId": "17024594359733032999"
     },
     "user_tz": -330
    },
    "id": "6a8d156c"
   },
   "outputs": [],
   "source": [
    "# https://scikit-learn.org/stable/modules/model_evaluation.html\n",
    "\n",
    "from sklearn.model_selection import GridSearchCV\n",
    "regressorcv = GridSearchCV(regressor, param_grid = parameter, cv = 2, scoring = 'neg_mean_squared_error')"
   ]
  },
  {
   "cell_type": "code",
   "execution_count": null,
   "id": "e572bfee",
   "metadata": {
    "colab": {
     "base_uri": "https://localhost:8080/",
     "height": 117
    },
    "executionInfo": {
     "elapsed": 11463,
     "status": "ok",
     "timestamp": 1693319367803,
     "user": {
      "displayName": "yash agarwal",
      "userId": "17024594359733032999"
     },
     "user_tz": -330
    },
    "id": "e572bfee",
    "outputId": "a97b7d4e-7790-44be-fd67-1738db779331"
   },
   "outputs": [],
   "source": [
    "regressorcv.fit(X_train, y_train)"
   ]
  },
  {
   "cell_type": "code",
   "execution_count": null,
   "id": "5f53a92b",
   "metadata": {
    "colab": {
     "base_uri": "https://localhost:8080/"
    },
    "executionInfo": {
     "elapsed": 16,
     "status": "ok",
     "timestamp": 1693319367803,
     "user": {
      "displayName": "yash agarwal",
      "userId": "17024594359733032999"
     },
     "user_tz": -330
    },
    "id": "5f53a92b",
    "outputId": "4052f6b6-3c4f-48e5-98a0-db01d2612b7e"
   },
   "outputs": [],
   "source": [
    "regressorcv.best_params_"
   ]
  },
  {
   "cell_type": "code",
   "execution_count": null,
   "id": "0f30f6b4",
   "metadata": {
    "executionInfo": {
     "elapsed": 14,
     "status": "ok",
     "timestamp": 1693319367804,
     "user": {
      "displayName": "yash agarwal",
      "userId": "17024594359733032999"
     },
     "user_tz": -330
    },
    "id": "0f30f6b4"
   },
   "outputs": [],
   "source": [
    "y_pred = regressorcv.predict(X_test)"
   ]
  },
  {
   "cell_type": "code",
   "execution_count": null,
   "id": "7ef2858b",
   "metadata": {},
   "outputs": [],
   "source": [
    "y_pred"
   ]
  },
  {
   "cell_type": "code",
   "execution_count": null,
   "id": "e2631117",
   "metadata": {
    "colab": {
     "base_uri": "https://localhost:8080/"
    },
    "executionInfo": {
     "elapsed": 13,
     "status": "ok",
     "timestamp": 1693319367804,
     "user": {
      "displayName": "yash agarwal",
      "userId": "17024594359733032999"
     },
     "user_tz": -330
    },
    "id": "e2631117",
    "outputId": "b3725f73-cd30-4aef-8267-39860d962d37"
   },
   "outputs": [],
   "source": [
    "r2_score(y_pred, y_test)"
   ]
  }
 ],
 "metadata": {
  "colab": {
   "provenance": []
  },
  "kernelspec": {
   "display_name": "Python 3 (ipykernel)",
   "language": "python",
   "name": "python3"
  },
  "language_info": {
   "codemirror_mode": {
    "name": "ipython",
    "version": 3
   },
   "file_extension": ".py",
   "mimetype": "text/x-python",
   "name": "python",
   "nbconvert_exporter": "python",
   "pygments_lexer": "ipython3",
   "version": "3.11.5"
  }
 },
 "nbformat": 4,
 "nbformat_minor": 5
}
