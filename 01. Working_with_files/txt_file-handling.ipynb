{
 "cells": [
  {
   "cell_type": "markdown",
   "id": "0d4cc7d3",
   "metadata": {},
   "source": [
    "###### for reading text file exist at any other directory - r'D:\\वैचक्षण्यम्\\_in-program files\\txt file.txt'"
   ]
  },
  {
   "cell_type": "code",
   "execution_count": 2,
   "id": "a3e2f9d7-7627-4e19-a1d8-dade1b5fba91",
   "metadata": {},
   "outputs": [
    {
     "name": "stdout",
     "output_type": "stream",
     "text": [
      "<class 'str'>\n"
     ]
    }
   ],
   "source": [
    "file_obj = open('txt file.txt')\n",
    "file_data = file_obj.read()\n",
    "print(type(file_data))\n",
    "\n",
    "# r is used because the file does not exist in the same directory"
   ]
  },
  {
   "cell_type": "code",
   "execution_count": 3,
   "id": "f04ab5cb-08bf-4e8e-ba07-01c400b59c19",
   "metadata": {},
   "outputs": [
    {
     "data": {
      "text/plain": [
       "'Quod equidem non reprehendo;\\nLorem ipsum dolor sit amet, consectetur adipiscing elit. Quibus natura '"
      ]
     },
     "execution_count": 3,
     "metadata": {},
     "output_type": "execute_result"
    }
   ],
   "source": [
    "file_obj = open('txt file.txt')\n",
    "file_data = file_obj.read(100)\n",
    "file_data"
   ]
  },
  {
   "cell_type": "code",
   "execution_count": 4,
   "id": "809c264b-5806-45b4-b2ea-f8eeaa563181",
   "metadata": {},
   "outputs": [
    {
     "name": "stdout",
     "output_type": "stream",
     "text": [
      "Quod equidem non reprehendo;\n",
      "\n",
      "Lorem ipsum dolor sit amet, consectetur adipiscing elit. Quibus natura iure responderit non esse verum aliunde finem beate vivendi, a se principia rei gerendae peti; Quae enim adhuc protulisti, popularia sunt, ego autem a te elegantiora desidero. Duo Reges: constructio interrete. Tum Lucius: Mihi vero ista valde probata sunt, quod item fratri puto. Bestiarum vero nullum iudicium puto. Nihil enim iam habes, quod ad corpus referas; Deinde prima illa, quae in congressu solemus: Quid tu, inquit, huc? Et homini, qui ceteris animantibus plurimum praestat, praecipue a natura nihil datum esse dicemus?\n",
      "\n"
     ]
    }
   ],
   "source": [
    "file_obj = open('txt file.txt')\n",
    "data1 = file_obj.readline()\n",
    "data2 = file_obj.readline(10000)\n",
    "# readline gives the bytes as min{arg, current_line)\n",
    "\n",
    "print(data1)\n",
    "print(data2)"
   ]
  },
  {
   "cell_type": "code",
   "execution_count": 5,
   "id": "28053d17-96a5-44e5-b1a7-0c86f79a9e9b",
   "metadata": {},
   "outputs": [
    {
     "name": "stdout",
     "output_type": "stream",
     "text": [
      "<class 'list'>\n",
      "21\n"
     ]
    },
    {
     "data": {
      "text/plain": [
       "['Quod equidem non reprehendo;\\n',\n",
       " 'Lorem ipsum dolor sit amet, consectetur adipiscing elit. Quibus natura iure responderit non esse verum aliunde finem beate vivendi, a se principia rei gerendae peti; Quae enim adhuc protulisti, popularia sunt, ego autem a te elegantiora desidero. Duo Reges: constructio interrete. Tum Lucius: Mihi vero ista valde probata sunt, quod item fratri puto. Bestiarum vero nullum iudicium puto. Nihil enim iam habes, quod ad corpus referas; Deinde prima illa, quae in congressu solemus: Quid tu, inquit, huc? Et homini, qui ceteris animantibus plurimum praestat, praecipue a natura nihil datum esse dicemus?\\n',\n",
       " '\\n',\n",
       " 'Iam id ipsum absurdum, maximum malum neglegi. Quod ea non occurrentia fingunt, vincunt Aristonem; Atqui perspicuum est hominem e corpore animoque constare, cum primae sint animi partes, secundae corporis. Fieri, inquam, Triari, nullo pacto potest, ut non dicas, quid non probes eius, a quo dissentias. Equidem e Cn. An dubium est, quin virtus ita maximam partem optineat in rebus humanis, ut reliquas obruat?\\n',\n",
       " '\\n',\n",
       " 'Quis istum dolorem timet?\\n',\n",
       " 'Summus dolor plures dies manere non potest? Dicet pro me ipsa virtus nec dubitabit isti vestro beato M. Tubulum fuisse, qua illum, cuius is condemnatus est rogatione, P. Quod si ita sit, cur opera philosophiae sit danda nescio.\\n',\n",
       " '\\n',\n",
       " 'Ex eorum enim scriptis et institutis cum omnis doctrina liberalis, omnis historia.\\n',\n",
       " 'Quod si ita est, sequitur id ipsum, quod te velle video, omnes semper beatos esse sapientes. Cum enim fertur quasi torrens oratio, quamvis multa cuiusque modi rapiat, nihil tamen teneas, nihil apprehendas, nusquam orationem rapidam coerceas. Ita redarguitur ipse a sese, convincunturque scripta eius probitate ipsius ac moribus. At quanta conantur! Mundum hunc omnem oppidum esse nostrum! Incendi igitur eos, qui audiunt, vides. Vide, ne magis, inquam, tuum fuerit, cum re idem tibi, quod mihi, videretur, non nova te rebus nomina inponere. Qui-vere falsone, quaerere mittimus-dicitur oculis se privasse; Si ista mala sunt, in quae potest incidere sapiens, sapientem esse non esse ad beate vivendum satis. At vero si ad vitem sensus accesserit, ut appetitum quendam habeat et per se ipsa moveatur, quid facturam putas?\\n',\n",
       " '\\n',\n",
       " 'Quem si tenueris, non modo meum Ciceronem, sed etiam me ipsum abducas licebit.\\n',\n",
       " 'Stulti autem malorum memoria torquentur, sapientes bona praeterita grata recordatione renovata delectant.\\n',\n",
       " 'Esse enim quam vellet iniquus iustus poterat inpune.\\n',\n",
       " 'Quae autem natura suae primae institutionis oblita est?\\n',\n",
       " 'Verum tamen cum de rebus grandioribus dicas, ipsae res verba rapiunt;\\n',\n",
       " 'Hoc est non modo cor non habere, sed ne palatum quidem.\\n',\n",
       " 'Voluptatem cum summum bonum diceret, primum in eo ipso parum vidit, deinde hoc quoque alienum; Sed tu istuc dixti bene Latine, parum plane. Nam haec ipsa mihi erunt in promptu, quae modo audivi, nec ante aggrediar, quam te ab istis, quos dicis, instructum videro. Fatebuntur Stoici haec omnia dicta esse praeclare, neque eam causam Zenoni desciscendi fuisse. Non autem hoc: igitur ne illud quidem. Ratio quidem vestra sic cogit. Cum audissem Antiochum, Brute, ut solebam, cum M. An quod ita callida est, ut optime possit architectari voluptates?\\n',\n",
       " '\\n',\n",
       " 'Idemne, quod iucunde?\\n',\n",
       " 'Haec mihi videtur delicatior, ut ita dicam, molliorque ratio, quam virtutis vis gravitasque postulat. Sed quoniam et advesperascit et mihi ad villam revertendum est, nunc quidem hactenus; Cuius ad naturam apta ratio vera illa et summa lex a philosophis dicitur. Neque solum ea communia, verum etiam paria esse dixerunt. Sed nunc, quod agimus; A mene tu?']"
      ]
     },
     "execution_count": 5,
     "metadata": {},
     "output_type": "execute_result"
    }
   ],
   "source": [
    "file_obj = open('txt file.txt')\n",
    "data1 = file_obj.readlines()\n",
    "print(type(data1))\n",
    "print(len(data1))\n",
    "file_obj.close()\n",
    "data1"
   ]
  },
  {
   "cell_type": "code",
   "execution_count": 6,
   "id": "f88019fe-ba52-46b2-90ce-ffbe64dbdacf",
   "metadata": {},
   "outputs": [
    {
     "name": "stdout",
     "output_type": "stream",
     "text": [
      "Summus dolor plures dies manere non potest? Dicet pro me ipsa virtus nec dubitabit isti vestro beato M. Tubulum fuisse, qua illum, cuius is condemnatus est rogatione, P. Quod si ita sit, cur opera philosophiae sit danda nescio.\n",
      "\n"
     ]
    }
   ],
   "source": [
    "with open('txt file.txt','r') as obj :\n",
    "    data = obj.readlines()\n",
    "    # No need to close now\n",
    "\n",
    "print(data[6])"
   ]
  },
  {
   "cell_type": "code",
   "execution_count": null,
   "id": "b6344cd9-1afd-425f-b787-232b76c28f50",
   "metadata": {},
   "outputs": [],
   "source": []
  }
 ],
 "metadata": {
  "kernelspec": {
   "display_name": "Python 3 (ipykernel)",
   "language": "python",
   "name": "python3"
  },
  "language_info": {
   "codemirror_mode": {
    "name": "ipython",
    "version": 3
   },
   "file_extension": ".py",
   "mimetype": "text/x-python",
   "name": "python",
   "nbconvert_exporter": "python",
   "pygments_lexer": "ipython3",
   "version": "3.11.5"
  }
 },
 "nbformat": 4,
 "nbformat_minor": 5
}
